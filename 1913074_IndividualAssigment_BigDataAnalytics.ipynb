{
  "nbformat": 4,
  "nbformat_minor": 0,
  "metadata": {
    "colab": {
      "name": "1913074_Individual Assigment",
      "provenance": [],
      "collapsed_sections": [
        "mjjQa-07HffA"
      ]
    },
    "kernelspec": {
      "name": "python3",
      "display_name": "Python 3"
    },
    "language_info": {
      "name": "python"
    }
  },
  "cells": [
    {
      "cell_type": "markdown",
      "source": [
        "**CSCI 4341 – Big Data Analytics | Individual Assignment | Semester 2 2021/2022**\n",
        "\n",
        "**Nur Qhaisara binti Mohd Zakzam**\n",
        "\n",
        "**1913074**\n",
        "\n",
        "**nurqhaisara1913074@gmail.com**"
      ],
      "metadata": {
        "id": "hQ8p15Lzg-Dh"
      }
    },
    {
      "cell_type": "code",
      "source": [
        "!apt-get install openjdk-8-jdk-headless -qq > /dev/null\n",
        "!wget -q https://archive.apache.org/dist/spark/spark-3.2.1/spark-3.2.1-bin-hadoop2.7.tgz\n",
        "!tar xf spark-3.2.1-bin-hadoop2.7.tgz\n",
        "!pip install -q findspark"
      ],
      "metadata": {
        "id": "jny6xBU1hNT_"
      },
      "execution_count": 1,
      "outputs": []
    },
    {
      "cell_type": "code",
      "source": [
        "import os\n",
        "os.environ[\"JAVA_HOME\"]= \"/usr/lib/jvm/java-8-openjdk-amd64\"\n",
        "os.environ[\"SPARK_HOME\"]= \"/content/spark-3.2.1-bin-hadoop2.7\""
      ],
      "metadata": {
        "id": "AJQwMdaBhY6T"
      },
      "execution_count": 2,
      "outputs": []
    },
    {
      "cell_type": "code",
      "source": [
        "import findspark\n",
        "findspark.init()\n",
        "\n",
        "import pyspark\n",
        "from pyspark import SparkConf \n",
        "from pyspark.sql import SparkSession\n",
        "from pyspark.sql.functions import udf\n",
        "from pyspark.sql.types import StringType\n",
        "from pyspark.sql.types import IntegerType\n",
        "from pyspark import SparkContext\n",
        "from pyspark.sql import HiveContext\n",
        "from pyspark.sql import functions as F\n",
        "from pyspark.sql.functions import count,col\n",
        "\n",
        "import numpy as np\n",
        "import pandas as pd\n",
        "%matplotlib inline\n",
        "import matplotlib.pyplot as plt"
      ],
      "metadata": {
        "id": "3tl3At1whb6t"
      },
      "execution_count": 3,
      "outputs": []
    },
    {
      "cell_type": "code",
      "source": [
        "spark = SparkSession\\\n",
        "        .builder\\\n",
        "        .appName(\"HREmployee\")\\\n",
        "        .getOrCreate()"
      ],
      "metadata": {
        "id": "ADlqcBrWhg7j"
      },
      "execution_count": 4,
      "outputs": []
    },
    {
      "cell_type": "code",
      "source": [
        "spark"
      ],
      "metadata": {
        "colab": {
          "base_uri": "https://localhost:8080/",
          "height": 219
        },
        "id": "bvTIzFYyhxJk",
        "outputId": "2b68529a-c27d-47cc-9d21-f9ec348eaac9"
      },
      "execution_count": 5,
      "outputs": [
        {
          "output_type": "execute_result",
          "data": {
            "text/plain": [
              "<pyspark.sql.session.SparkSession at 0x7f73df3635d0>"
            ],
            "text/html": [
              "\n",
              "            <div>\n",
              "                <p><b>SparkSession - in-memory</b></p>\n",
              "                \n",
              "        <div>\n",
              "            <p><b>SparkContext</b></p>\n",
              "\n",
              "            <p><a href=\"http://b82caa19c610:4040\">Spark UI</a></p>\n",
              "\n",
              "            <dl>\n",
              "              <dt>Version</dt>\n",
              "                <dd><code>v3.2.1</code></dd>\n",
              "              <dt>Master</dt>\n",
              "                <dd><code>local[*]</code></dd>\n",
              "              <dt>AppName</dt>\n",
              "                <dd><code>HREmployee</code></dd>\n",
              "            </dl>\n",
              "        </div>\n",
              "        \n",
              "            </div>\n",
              "        "
            ]
          },
          "metadata": {},
          "execution_count": 5
        }
      ]
    },
    {
      "cell_type": "code",
      "source": [
        "spark.sparkContext.getConf().getAll()"
      ],
      "metadata": {
        "colab": {
          "base_uri": "https://localhost:8080/"
        },
        "id": "RF5-BKMeH8oN",
        "outputId": "666d8697-3825-4476-a651-552b8351c4a8"
      },
      "execution_count": 6,
      "outputs": [
        {
          "output_type": "execute_result",
          "data": {
            "text/plain": [
              "[('spark.app.id', 'local-1656863585295'),\n",
              " ('spark.rdd.compress', 'True'),\n",
              " ('spark.serializer.objectStreamReset', '100'),\n",
              " ('spark.master', 'local[*]'),\n",
              " ('spark.submit.pyFiles', ''),\n",
              " ('spark.executor.id', 'driver'),\n",
              " ('spark.app.startTime', '1656863582983'),\n",
              " ('spark.submit.deployMode', 'client'),\n",
              " ('spark.app.name', 'HREmployee'),\n",
              " ('spark.sql.warehouse.dir', 'file:/content/spark-warehouse'),\n",
              " ('spark.ui.showConsoleProgress', 'true'),\n",
              " ('spark.driver.port', '35707'),\n",
              " ('spark.driver.host', 'b82caa19c610')]"
            ]
          },
          "metadata": {},
          "execution_count": 6
        }
      ]
    },
    {
      "cell_type": "markdown",
      "source": [
        "# **Data Collection**"
      ],
      "metadata": {
        "id": "U8VoXlXmF8HI"
      }
    },
    {
      "cell_type": "code",
      "source": [
        "path = \"data/WA_Fn-UseC_-HR-Employee-Attrition.csv\"\n",
        "\n",
        "employee = spark.read.csv(path, header=True)"
      ],
      "metadata": {
        "id": "c1ggG7EbFmif"
      },
      "execution_count": 7,
      "outputs": []
    },
    {
      "cell_type": "markdown",
      "source": [
        "# **Data Preprocessing**"
      ],
      "metadata": {
        "id": "uYd3-XDZGKpO"
      }
    },
    {
      "cell_type": "code",
      "source": [
        "employee.printSchema()"
      ],
      "metadata": {
        "colab": {
          "base_uri": "https://localhost:8080/"
        },
        "id": "ffSZB2HCGC3U",
        "outputId": "14b8575f-d922-4ee5-8a4c-303057e4f2e2"
      },
      "execution_count": 8,
      "outputs": [
        {
          "output_type": "stream",
          "name": "stdout",
          "text": [
            "root\n",
            " |-- Age: string (nullable = true)\n",
            " |-- Attrition: string (nullable = true)\n",
            " |-- BusinessTravel: string (nullable = true)\n",
            " |-- DailyRate: string (nullable = true)\n",
            " |-- Department: string (nullable = true)\n",
            " |-- DistanceFromHome: string (nullable = true)\n",
            " |-- Education: string (nullable = true)\n",
            " |-- EducationField: string (nullable = true)\n",
            " |-- EmployeeCount: string (nullable = true)\n",
            " |-- EmployeeNumber: string (nullable = true)\n",
            " |-- EnvironmentSatisfaction: string (nullable = true)\n",
            " |-- Gender: string (nullable = true)\n",
            " |-- HourlyRate: string (nullable = true)\n",
            " |-- JobInvolvement: string (nullable = true)\n",
            " |-- JobLevel: string (nullable = true)\n",
            " |-- JobRole: string (nullable = true)\n",
            " |-- JobSatisfaction: string (nullable = true)\n",
            " |-- MaritalStatus: string (nullable = true)\n",
            " |-- MonthlyIncome: string (nullable = true)\n",
            " |-- MonthlyRate: string (nullable = true)\n",
            " |-- NumCompaniesWorked: string (nullable = true)\n",
            " |-- Over18: string (nullable = true)\n",
            " |-- OverTime: string (nullable = true)\n",
            " |-- PercentSalaryHike: string (nullable = true)\n",
            " |-- PerformanceRating: string (nullable = true)\n",
            " |-- RelationshipSatisfaction: string (nullable = true)\n",
            " |-- StandardHours: string (nullable = true)\n",
            " |-- StockOptionLevel: string (nullable = true)\n",
            " |-- TotalWorkingYears: string (nullable = true)\n",
            " |-- TrainingTimesLastYear: string (nullable = true)\n",
            " |-- WorkLifeBalance: string (nullable = true)\n",
            " |-- YearsAtCompany: string (nullable = true)\n",
            " |-- YearsInCurrentRole: string (nullable = true)\n",
            " |-- YearsSinceLastPromotion: string (nullable = true)\n",
            " |-- YearsWithCurrManager: string (nullable = true)\n",
            "\n"
          ]
        }
      ]
    },
    {
      "cell_type": "code",
      "source": [
        "employee.describe()"
      ],
      "metadata": {
        "colab": {
          "base_uri": "https://localhost:8080/"
        },
        "id": "wg5G1PH5GdP_",
        "outputId": "7c97cc86-fd7d-4d23-e441-7f131123187b"
      },
      "execution_count": 9,
      "outputs": [
        {
          "output_type": "execute_result",
          "data": {
            "text/plain": [
              "DataFrame[summary: string, Age: string, Attrition: string, BusinessTravel: string, DailyRate: string, Department: string, DistanceFromHome: string, Education: string, EducationField: string, EmployeeCount: string, EmployeeNumber: string, EnvironmentSatisfaction: string, Gender: string, HourlyRate: string, JobInvolvement: string, JobLevel: string, JobRole: string, JobSatisfaction: string, MaritalStatus: string, MonthlyIncome: string, MonthlyRate: string, NumCompaniesWorked: string, Over18: string, OverTime: string, PercentSalaryHike: string, PerformanceRating: string, RelationshipSatisfaction: string, StandardHours: string, StockOptionLevel: string, TotalWorkingYears: string, TrainingTimesLastYear: string, WorkLifeBalance: string, YearsAtCompany: string, YearsInCurrentRole: string, YearsSinceLastPromotion: string, YearsWithCurrManager: string]"
            ]
          },
          "metadata": {},
          "execution_count": 9
        }
      ]
    },
    {
      "cell_type": "code",
      "source": [
        "len(employee.columns), employee.columns #number of columns"
      ],
      "metadata": {
        "colab": {
          "base_uri": "https://localhost:8080/"
        },
        "id": "5lYrVUSvGkIn",
        "outputId": "608ba7da-fe87-4804-8e7e-2a814e750ccf"
      },
      "execution_count": 10,
      "outputs": [
        {
          "output_type": "execute_result",
          "data": {
            "text/plain": [
              "(35,\n",
              " ['Age',\n",
              "  'Attrition',\n",
              "  'BusinessTravel',\n",
              "  'DailyRate',\n",
              "  'Department',\n",
              "  'DistanceFromHome',\n",
              "  'Education',\n",
              "  'EducationField',\n",
              "  'EmployeeCount',\n",
              "  'EmployeeNumber',\n",
              "  'EnvironmentSatisfaction',\n",
              "  'Gender',\n",
              "  'HourlyRate',\n",
              "  'JobInvolvement',\n",
              "  'JobLevel',\n",
              "  'JobRole',\n",
              "  'JobSatisfaction',\n",
              "  'MaritalStatus',\n",
              "  'MonthlyIncome',\n",
              "  'MonthlyRate',\n",
              "  'NumCompaniesWorked',\n",
              "  'Over18',\n",
              "  'OverTime',\n",
              "  'PercentSalaryHike',\n",
              "  'PerformanceRating',\n",
              "  'RelationshipSatisfaction',\n",
              "  'StandardHours',\n",
              "  'StockOptionLevel',\n",
              "  'TotalWorkingYears',\n",
              "  'TrainingTimesLastYear',\n",
              "  'WorkLifeBalance',\n",
              "  'YearsAtCompany',\n",
              "  'YearsInCurrentRole',\n",
              "  'YearsSinceLastPromotion',\n",
              "  'YearsWithCurrManager'])"
            ]
          },
          "metadata": {},
          "execution_count": 10
        }
      ]
    },
    {
      "cell_type": "code",
      "source": [
        "employee.count() #number of rows"
      ],
      "metadata": {
        "colab": {
          "base_uri": "https://localhost:8080/"
        },
        "id": "woacr7n0GrtN",
        "outputId": "066c28fc-5c8e-485c-a239-e934f75b7d5f"
      },
      "execution_count": 11,
      "outputs": [
        {
          "output_type": "execute_result",
          "data": {
            "text/plain": [
              "1470"
            ]
          },
          "metadata": {},
          "execution_count": 11
        }
      ]
    },
    {
      "cell_type": "code",
      "source": [
        "employee.head()"
      ],
      "metadata": {
        "colab": {
          "base_uri": "https://localhost:8080/"
        },
        "id": "U2bVjkjQGy_J",
        "outputId": "3b5ae344-0293-44c3-9299-e84e10a1ad91"
      },
      "execution_count": 12,
      "outputs": [
        {
          "output_type": "execute_result",
          "data": {
            "text/plain": [
              "Row(Age='41', Attrition='Yes', BusinessTravel='Travel_Rarely', DailyRate='1102', Department='Sales', DistanceFromHome='1', Education='2', EducationField='Life Sciences', EmployeeCount='1', EmployeeNumber='1', EnvironmentSatisfaction='2', Gender='Female', HourlyRate='94', JobInvolvement='3', JobLevel='2', JobRole='Sales Executive', JobSatisfaction='4', MaritalStatus='Single', MonthlyIncome='5993', MonthlyRate='19479', NumCompaniesWorked='8', Over18='Y', OverTime='Yes', PercentSalaryHike='11', PerformanceRating='3', RelationshipSatisfaction='1', StandardHours='80', StockOptionLevel='0', TotalWorkingYears='8', TrainingTimesLastYear='0', WorkLifeBalance='1', YearsAtCompany='6', YearsInCurrentRole='4', YearsSinceLastPromotion='0', YearsWithCurrManager='5')"
            ]
          },
          "metadata": {},
          "execution_count": 12
        }
      ]
    },
    {
      "cell_type": "code",
      "source": [
        "employee.show(n=3)"
      ],
      "metadata": {
        "colab": {
          "base_uri": "https://localhost:8080/"
        },
        "id": "rJuHbmi0G6yX",
        "outputId": "b1ce4d1b-431c-48bc-8663-94081ec12013"
      },
      "execution_count": 13,
      "outputs": [
        {
          "output_type": "stream",
          "name": "stdout",
          "text": [
            "+---+---------+-----------------+---------+--------------------+----------------+---------+--------------+-------------+--------------+-----------------------+------+----------+--------------+--------+--------------------+---------------+-------------+-------------+-----------+------------------+------+--------+-----------------+-----------------+------------------------+-------------+----------------+-----------------+---------------------+---------------+--------------+------------------+-----------------------+--------------------+\n",
            "|Age|Attrition|   BusinessTravel|DailyRate|          Department|DistanceFromHome|Education|EducationField|EmployeeCount|EmployeeNumber|EnvironmentSatisfaction|Gender|HourlyRate|JobInvolvement|JobLevel|             JobRole|JobSatisfaction|MaritalStatus|MonthlyIncome|MonthlyRate|NumCompaniesWorked|Over18|OverTime|PercentSalaryHike|PerformanceRating|RelationshipSatisfaction|StandardHours|StockOptionLevel|TotalWorkingYears|TrainingTimesLastYear|WorkLifeBalance|YearsAtCompany|YearsInCurrentRole|YearsSinceLastPromotion|YearsWithCurrManager|\n",
            "+---+---------+-----------------+---------+--------------------+----------------+---------+--------------+-------------+--------------+-----------------------+------+----------+--------------+--------+--------------------+---------------+-------------+-------------+-----------+------------------+------+--------+-----------------+-----------------+------------------------+-------------+----------------+-----------------+---------------------+---------------+--------------+------------------+-----------------------+--------------------+\n",
            "| 41|      Yes|    Travel_Rarely|     1102|               Sales|               1|        2| Life Sciences|            1|             1|                      2|Female|        94|             3|       2|     Sales Executive|              4|       Single|         5993|      19479|                 8|     Y|     Yes|               11|                3|                       1|           80|               0|                8|                    0|              1|             6|                 4|                      0|                   5|\n",
            "| 49|       No|Travel_Frequently|      279|Research & Develo...|               8|        1| Life Sciences|            1|             2|                      3|  Male|        61|             2|       2|  Research Scientist|              2|      Married|         5130|      24907|                 1|     Y|      No|               23|                4|                       4|           80|               1|               10|                    3|              3|            10|                 7|                      1|                   7|\n",
            "| 37|      Yes|    Travel_Rarely|     1373|Research & Develo...|               2|        2|         Other|            1|             4|                      4|  Male|        92|             2|       1|Laboratory Techni...|              3|       Single|         2090|       2396|                 6|     Y|     Yes|               15|                3|                       2|           80|               0|                7|                    3|              3|             0|                 0|                      0|                   0|\n",
            "+---+---------+-----------------+---------+--------------------+----------------+---------+--------------+-------------+--------------+-----------------------+------+----------+--------------+--------+--------------------+---------------+-------------+-------------+-----------+------------------+------+--------+-----------------+-----------------+------------------------+-------------+----------------+-----------------+---------------------+---------------+--------------+------------------+-----------------------+--------------------+\n",
            "only showing top 3 rows\n",
            "\n"
          ]
        }
      ]
    },
    {
      "cell_type": "code",
      "source": [
        "employee.describe().show(truncate=False)"
      ],
      "metadata": {
        "colab": {
          "base_uri": "https://localhost:8080/"
        },
        "id": "HkIFvZtfHGbA",
        "outputId": "57bca065-4c17-4fbb-eaa9-7fb7693b31c7"
      },
      "execution_count": 14,
      "outputs": [
        {
          "output_type": "stream",
          "name": "stdout",
          "text": [
            "+-------+------------------+---------+--------------+------------------+---------------+----------------+------------------+----------------+-------------+-----------------+-----------------------+------+------------------+------------------+------------------+-------------------------+------------------+-------------+-----------------+------------------+------------------+------+--------+------------------+-------------------+------------------------+-------------+------------------+------------------+---------------------+------------------+------------------+------------------+-----------------------+--------------------+\n",
            "|summary|Age               |Attrition|BusinessTravel|DailyRate         |Department     |DistanceFromHome|Education         |EducationField  |EmployeeCount|EmployeeNumber   |EnvironmentSatisfaction|Gender|HourlyRate        |JobInvolvement    |JobLevel          |JobRole                  |JobSatisfaction   |MaritalStatus|MonthlyIncome    |MonthlyRate       |NumCompaniesWorked|Over18|OverTime|PercentSalaryHike |PerformanceRating  |RelationshipSatisfaction|StandardHours|StockOptionLevel  |TotalWorkingYears |TrainingTimesLastYear|WorkLifeBalance   |YearsAtCompany    |YearsInCurrentRole|YearsSinceLastPromotion|YearsWithCurrManager|\n",
            "+-------+------------------+---------+--------------+------------------+---------------+----------------+------------------+----------------+-------------+-----------------+-----------------------+------+------------------+------------------+------------------+-------------------------+------------------+-------------+-----------------+------------------+------------------+------+--------+------------------+-------------------+------------------------+-------------+------------------+------------------+---------------------+------------------+------------------+------------------+-----------------------+--------------------+\n",
            "|count  |1470              |1470     |1470          |1470              |1470           |1470            |1470              |1470            |1470         |1470             |1470                   |1470  |1470              |1470              |1470              |1470                     |1470              |1470         |1470             |1470              |1470              |1470  |1470    |1470              |1470               |1470                    |1470         |1470              |1470              |1470                 |1470              |1470              |1470              |1470                   |1470                |\n",
            "|mean   |36.923809523809524|null     |null          |802.4857142857143 |null           |9.19251700680272|2.912925170068027 |null            |1.0          |1024.865306122449|2.721768707482993      |null  |65.89115646258503 |2.7299319727891156|2.0639455782312925|null                     |2.7285714285714286|null         |6502.931292517007|14313.103401360544|2.6931972789115646|null  |null    |15.209523809523809|3.1537414965986397 |2.7122448979591836      |80.0         |0.7938775510204081|11.279591836734694|2.7993197278911564   |2.7612244897959184|7.0081632653061225|4.229251700680272 |2.1877551020408164     |4.12312925170068    |\n",
            "|stddev |9.135373489136729 |null     |null          |403.50909994352804|null           |8.10686443566608|1.0241649445978718|null            |0.0          |602.0243348474752|1.0930822146350003     |null  |20.329427593996176|0.7115611429632297|1.1069398989351202|null                     |1.1028461230547213|null         |4707.956783097992|7117.786044059972 |2.4980090060707463|null  |null    |3.6599377165396385|0.36082352460434397|1.0812088864403517      |0.0          |0.8520766679308381|7.780781675514995 |1.2892706207958466   |0.7064758297141507|6.126525152403571 |3.623137034670627 |3.2224302791379693     |3.5681361205404363  |\n",
            "|min    |18                |No       |Non-Travel    |1001              |Human Resources|1               |1                 |Human Resources |1            |1                |1                      |Female|100               |1                 |1                 |Healthcare Representative|1                 |Divorced     |10008            |10007             |0                 |Y     |No      |11                |3                  |1                       |80           |0                 |0                 |0                    |1                 |0                 |0                 |0                      |0                   |\n",
            "|max    |60                |Yes      |Travel_Rarely |999               |Sales          |9               |5                 |Technical Degree|1            |999              |4                      |Male  |99                |4                 |5                 |Sales Representative     |4                 |Single       |9998             |9983              |9                 |Y     |Yes     |25                |4                  |4                       |80           |3                 |9                 |6                    |4                 |9                 |9                 |9                      |9                   |\n",
            "+-------+------------------+---------+--------------+------------------+---------------+----------------+------------------+----------------+-------------+-----------------+-----------------------+------+------------------+------------------+------------------+-------------------------+------------------+-------------+-----------------+------------------+------------------+------+--------+------------------+-------------------+------------------------+-------------+------------------+------------------+---------------------+------------------+------------------+------------------+-----------------------+--------------------+\n",
            "\n"
          ]
        }
      ]
    },
    {
      "cell_type": "code",
      "source": [
        "employee2 = employee.withColumn(\"Attrition\", F.when(employee.Attrition == \"Yes\", 1).otherwise(0)).withColumn(\"Gender\", F.when(employee.Gender == \"Male\", 1).otherwise(0))"
      ],
      "metadata": {
        "id": "OFM3HAmBKYg9"
      },
      "execution_count": 15,
      "outputs": []
    },
    {
      "cell_type": "code",
      "source": [
        "employee2.describe().show(truncate=False)"
      ],
      "metadata": {
        "colab": {
          "base_uri": "https://localhost:8080/"
        },
        "id": "AMq82xx-MTG4",
        "outputId": "ffb17284-6664-41ee-bcbc-7962cc21c558"
      },
      "execution_count": 16,
      "outputs": [
        {
          "output_type": "stream",
          "name": "stdout",
          "text": [
            "+-------+------------------+-------------------+--------------+------------------+---------------+----------------+------------------+----------------+-------------+-----------------+-----------------------+------------------+------------------+------------------+------------------+-------------------------+------------------+-------------+-----------------+------------------+------------------+------+--------+------------------+-------------------+------------------------+-------------+------------------+------------------+---------------------+------------------+------------------+------------------+-----------------------+--------------------+\n",
            "|summary|Age               |Attrition          |BusinessTravel|DailyRate         |Department     |DistanceFromHome|Education         |EducationField  |EmployeeCount|EmployeeNumber   |EnvironmentSatisfaction|Gender            |HourlyRate        |JobInvolvement    |JobLevel          |JobRole                  |JobSatisfaction   |MaritalStatus|MonthlyIncome    |MonthlyRate       |NumCompaniesWorked|Over18|OverTime|PercentSalaryHike |PerformanceRating  |RelationshipSatisfaction|StandardHours|StockOptionLevel  |TotalWorkingYears |TrainingTimesLastYear|WorkLifeBalance   |YearsAtCompany    |YearsInCurrentRole|YearsSinceLastPromotion|YearsWithCurrManager|\n",
            "+-------+------------------+-------------------+--------------+------------------+---------------+----------------+------------------+----------------+-------------+-----------------+-----------------------+------------------+------------------+------------------+------------------+-------------------------+------------------+-------------+-----------------+------------------+------------------+------+--------+------------------+-------------------+------------------------+-------------+------------------+------------------+---------------------+------------------+------------------+------------------+-----------------------+--------------------+\n",
            "|count  |1470              |1470               |1470          |1470              |1470           |1470            |1470              |1470            |1470         |1470             |1470                   |1470              |1470              |1470              |1470              |1470                     |1470              |1470         |1470             |1470              |1470              |1470  |1470    |1470              |1470               |1470                    |1470         |1470              |1470              |1470                 |1470              |1470              |1470              |1470                   |1470                |\n",
            "|mean   |36.923809523809524|0.16122448979591836|null          |802.4857142857143 |null           |9.19251700680272|2.912925170068027 |null            |1.0          |1024.865306122449|2.721768707482993      |0.6               |65.89115646258503 |2.7299319727891156|2.0639455782312925|null                     |2.7285714285714286|null         |6502.931292517007|14313.103401360544|2.6931972789115646|null  |null    |15.209523809523809|3.1537414965986397 |2.7122448979591836      |80.0         |0.7938775510204081|11.279591836734694|2.7993197278911564   |2.7612244897959184|7.0081632653061225|4.229251700680272 |2.1877551020408164     |4.12312925170068    |\n",
            "|stddev |9.135373489136729 |0.36786303197196196|null          |403.50909994352804|null           |8.10686443566608|1.0241649445978718|null            |0.0          |602.0243348474752|1.0930822146350003     |0.4900646655764547|20.329427593996176|0.7115611429632297|1.1069398989351202|null                     |1.1028461230547213|null         |4707.956783097992|7117.786044059972 |2.4980090060707463|null  |null    |3.6599377165396385|0.36082352460434397|1.0812088864403517      |0.0          |0.8520766679308381|7.780781675514995 |1.2892706207958466   |0.7064758297141507|6.126525152403571 |3.623137034670627 |3.2224302791379693     |3.5681361205404363  |\n",
            "|min    |18                |0                  |Non-Travel    |1001              |Human Resources|1               |1                 |Human Resources |1            |1                |1                      |0                 |100               |1                 |1                 |Healthcare Representative|1                 |Divorced     |10008            |10007             |0                 |Y     |No      |11                |3                  |1                       |80           |0                 |0                 |0                    |1                 |0                 |0                 |0                      |0                   |\n",
            "|max    |60                |1                  |Travel_Rarely |999               |Sales          |9               |5                 |Technical Degree|1            |999              |4                      |1                 |99                |4                 |5                 |Sales Representative     |4                 |Single       |9998             |9983              |9                 |Y     |Yes     |25                |4                  |4                       |80           |3                 |9                 |6                    |4                 |9                 |9                 |9                      |9                   |\n",
            "+-------+------------------+-------------------+--------------+------------------+---------------+----------------+------------------+----------------+-------------+-----------------+-----------------------+------------------+------------------+------------------+------------------+-------------------------+------------------+-------------+-----------------+------------------+------------------+------+--------+------------------+-------------------+------------------------+-------------+------------------+------------------+---------------------+------------------+------------------+------------------+-----------------------+--------------------+\n",
            "\n"
          ]
        }
      ]
    },
    {
      "cell_type": "markdown",
      "source": [
        "# **Data Cleaning**"
      ],
      "metadata": {
        "id": "mjjQa-07HffA"
      }
    },
    {
      "cell_type": "code",
      "source": [
        "employee = employee.dropna()"
      ],
      "metadata": {
        "id": "VxuaajXyHic6"
      },
      "execution_count": 17,
      "outputs": []
    },
    {
      "cell_type": "code",
      "source": [
        "employee = employee.dropDuplicates()"
      ],
      "metadata": {
        "id": "J5MTTZasHolb"
      },
      "execution_count": 18,
      "outputs": []
    },
    {
      "cell_type": "code",
      "source": [
        "employee.count()"
      ],
      "metadata": {
        "colab": {
          "base_uri": "https://localhost:8080/"
        },
        "id": "RcqkvWfHHvUb",
        "outputId": "4196c3b4-1969-4695-d063-f1a2f9141a44"
      },
      "execution_count": 19,
      "outputs": [
        {
          "output_type": "execute_result",
          "data": {
            "text/plain": [
              "1470"
            ]
          },
          "metadata": {},
          "execution_count": 19
        }
      ]
    },
    {
      "cell_type": "markdown",
      "source": [
        "# **Exploratory Data Analysis**"
      ],
      "metadata": {
        "id": "brIMrAaUIhNr"
      }
    },
    {
      "cell_type": "markdown",
      "source": [
        "**Data Science Question 1**"
      ],
      "metadata": {
        "id": "lGCpGgzEIoe_"
      }
    },
    {
      "cell_type": "code",
      "source": [
        "attritionGenderPlot = employee.filter(employee.Attrition == \"Yes\").groupby(employee.Gender).count().orderBy(employee.Gender.cast(\"integer\"))"
      ],
      "metadata": {
        "id": "vVdzi8bbvQS_"
      },
      "execution_count": 20,
      "outputs": []
    },
    {
      "cell_type": "code",
      "source": [
        "attritionGenderPlot.show() "
      ],
      "metadata": {
        "colab": {
          "base_uri": "https://localhost:8080/"
        },
        "id": "PMmrGmrtLGMG",
        "outputId": "cade8d44-210c-4b63-bfbe-1ffa9df4f7b6"
      },
      "execution_count": 21,
      "outputs": [
        {
          "output_type": "stream",
          "name": "stdout",
          "text": [
            "+------+-----+\n",
            "|Gender|count|\n",
            "+------+-----+\n",
            "|Female|   87|\n",
            "|  Male|  150|\n",
            "+------+-----+\n",
            "\n"
          ]
        }
      ]
    },
    {
      "cell_type": "code",
      "source": [
        "x = attritionGenderPlot.toPandas()[\"Gender\"].values.tolist()\n",
        "y = attritionGenderPlot.toPandas()[\"count\"].values.tolist()"
      ],
      "metadata": {
        "id": "tD-FhrLuM2EO"
      },
      "execution_count": 22,
      "outputs": []
    },
    {
      "cell_type": "code",
      "source": [
        "plt.bar(x,y)\n",
        "plt.title(\"Employee Attrition According to the Gender\")\n",
        "plt.xlabel(\"Gender\")\n",
        "plt.ylabel(\"Number of Employee Attrition\")\n",
        "plt.show()"
      ],
      "metadata": {
        "colab": {
          "base_uri": "https://localhost:8080/",
          "height": 295
        },
        "id": "rPkKKLjWPGCx",
        "outputId": "81037b39-8c7e-4f11-becb-36a020b97f13"
      },
      "execution_count": 23,
      "outputs": [
        {
          "output_type": "display_data",
          "data": {
            "text/plain": [
              "<Figure size 432x288 with 1 Axes>"
            ],
            "image/png": "[encoded data removed]"
          },
          "metadata": {
            "needs_background": "light"
          }
        }
      ]
    },
    {
      "cell_type": "markdown",
      "source": [
        "Based on the bar graph above, male employee attrition is higher than female employee attrition. There are 150 male employees and 87 female employees applying for attrition. Male employee attrition may be higher than female because of working styles, workload or perhaps in need of new environment in working space."
      ],
      "metadata": {
        "id": "RDmIkcvTwAuX"
      }
    },
    {
      "cell_type": "markdown",
      "source": [
        "**Data Science Question 2**"
      ],
      "metadata": {
        "id": "PWF529rpRDCa"
      }
    },
    {
      "cell_type": "code",
      "source": [
        "employee.groupBy(\"JobRole\").count().show(truncate=False)"
      ],
      "metadata": {
        "colab": {
          "base_uri": "https://localhost:8080/"
        },
        "id": "3aQRtuRpUjjn",
        "outputId": "d95498dc-419d-42d9-8ad8-dd96525a8b96"
      },
      "execution_count": 24,
      "outputs": [
        {
          "output_type": "stream",
          "name": "stdout",
          "text": [
            "+-------------------------+-----+\n",
            "|JobRole                  |count|\n",
            "+-------------------------+-----+\n",
            "|Sales Executive          |326  |\n",
            "|Manufacturing Director   |145  |\n",
            "|Laboratory Technician    |259  |\n",
            "|Sales Representative     |83   |\n",
            "|Healthcare Representative|131  |\n",
            "|Research Scientist       |292  |\n",
            "|Manager                  |102  |\n",
            "|Research Director        |80   |\n",
            "|Human Resources          |52   |\n",
            "+-------------------------+-----+\n",
            "\n"
          ]
        }
      ]
    },
    {
      "cell_type": "code",
      "source": [
        "employee.groupBy(\"JobRole\").agg(count(\"Attrition\")).where(employee.JobRole == \"Sales Representative\").show()"
      ],
      "metadata": {
        "colab": {
          "base_uri": "https://localhost:8080/"
        },
        "id": "KLNWnDGscRpX",
        "outputId": "edcbf955-fdb9-401c-abd2-5a30e90bdfbf"
      },
      "execution_count": 25,
      "outputs": [
        {
          "output_type": "stream",
          "name": "stdout",
          "text": [
            "+--------------------+----------------+\n",
            "|             JobRole|count(Attrition)|\n",
            "+--------------------+----------------+\n",
            "|Sales Representative|              83|\n",
            "+--------------------+----------------+\n",
            "\n"
          ]
        }
      ]
    },
    {
      "cell_type": "code",
      "source": [
        "employee.groupBy(\"Attrition\").agg(count(\"JobRole\")).where(employee.Attrition == \"Yes\").show()"
      ],
      "metadata": {
        "colab": {
          "base_uri": "https://localhost:8080/"
        },
        "id": "uoGBgBPCdJ5X",
        "outputId": "9182fce2-9d2d-4998-beaf-25e948b964e9"
      },
      "execution_count": 26,
      "outputs": [
        {
          "output_type": "stream",
          "name": "stdout",
          "text": [
            "+---------+--------------+\n",
            "|Attrition|count(JobRole)|\n",
            "+---------+--------------+\n",
            "|      Yes|           237|\n",
            "+---------+--------------+\n",
            "\n"
          ]
        }
      ]
    },
    {
      "cell_type": "code",
      "source": [
        "attrition_JobRole_Plot = employee.filter(employee.Attrition == \"Yes\").groupby(employee.JobRole).count().orderBy(employee.JobRole.cast(\"integer\"))"
      ],
      "metadata": {
        "id": "JcuYGOarP0zx"
      },
      "execution_count": 27,
      "outputs": []
    },
    {
      "cell_type": "code",
      "source": [
        "attrition_JobRole_Plot.show(truncate=False) "
      ],
      "metadata": {
        "colab": {
          "base_uri": "https://localhost:8080/"
        },
        "id": "ON_3EVS4QLNu",
        "outputId": "003ed770-43d7-4a11-a812-b68212df0ea3"
      },
      "execution_count": 28,
      "outputs": [
        {
          "output_type": "stream",
          "name": "stdout",
          "text": [
            "+-------------------------+-----+\n",
            "|JobRole                  |count|\n",
            "+-------------------------+-----+\n",
            "|Sales Executive          |57   |\n",
            "|Manufacturing Director   |10   |\n",
            "|Laboratory Technician    |62   |\n",
            "|Sales Representative     |33   |\n",
            "|Healthcare Representative|9    |\n",
            "|Research Scientist       |47   |\n",
            "|Manager                  |5    |\n",
            "|Research Director        |2    |\n",
            "|Human Resources          |12   |\n",
            "+-------------------------+-----+\n",
            "\n"
          ]
        }
      ]
    },
    {
      "cell_type": "code",
      "source": [
        "x = attrition_JobRole_Plot.toPandas()[\"JobRole\"].values.tolist()\n",
        "y = attrition_JobRole_Plot.toPandas()[\"count\"].values.tolist()"
      ],
      "metadata": {
        "id": "rUYiAZZDQZ39"
      },
      "execution_count": 29,
      "outputs": []
    },
    {
      "cell_type": "code",
      "source": [
        "fig = plt.figure(figsize = (25, 15))\n",
        "plt.bar(x,y)\n",
        "plt.title(\"Employee Attrition According to the Job Role\")\n",
        "plt.xlabel(\"Job Role\")\n",
        "plt.ylabel(\"Number of Employee Attrition\")\n",
        "plt.show()"
      ],
      "metadata": {
        "colab": {
          "base_uri": "https://localhost:8080/",
          "height": 876
        },
        "id": "d9wpD6rPQdIo",
        "outputId": "543bd29d-242e-4610-81c8-c4899e2fb5cf"
      },
      "execution_count": 30,
      "outputs": [
        {
          "output_type": "display_data",
          "data": {
            "text/plain": [
              "<Figure size 1800x1080 with 1 Axes>"
            ],
            "image/png": "[encoded data removed]"
          },
          "metadata": {
            "needs_background": "light"
          }
        }
      ]
    },
    {
      "cell_type": "markdown",
      "source": [
        "Laboratory Technician is the highest job role that influence on employee attrition which at 62. Sales Executive comes to the second at 33 and the third job role influence on employee attrition is Research Scientist at 47. The lowest job role that influences on employee attrition is Research Director. Laboratory Technician needs to deal with conducting multiple experiments, research and testing on the experiments. Hence, it required a lot of tasks to deal with. Perhaps, they need a lot of experience in order to do a better job. As a consequence, this job roles is the highest that contributes in influencing the employee attrition."
      ],
      "metadata": {
        "id": "0iQBtH7IwG0V"
      }
    },
    {
      "cell_type": "markdown",
      "source": [
        "**Data Science Question 3**"
      ],
      "metadata": {
        "id": "loBisQecRLyI"
      }
    },
    {
      "cell_type": "code",
      "source": [
        "employee.groupBy(\"RelationshipSatisfaction\").count().show(truncate=False)"
      ],
      "metadata": {
        "colab": {
          "base_uri": "https://localhost:8080/"
        },
        "id": "NUadt07Qf4l1",
        "outputId": "e1d9e68d-ca6b-41bd-c324-f5cfca303d80"
      },
      "execution_count": 31,
      "outputs": [
        {
          "output_type": "stream",
          "name": "stdout",
          "text": [
            "+------------------------+-----+\n",
            "|RelationshipSatisfaction|count|\n",
            "+------------------------+-----+\n",
            "|3                       |459  |\n",
            "|1                       |276  |\n",
            "|4                       |432  |\n",
            "|2                       |303  |\n",
            "+------------------------+-----+\n",
            "\n"
          ]
        }
      ]
    },
    {
      "cell_type": "code",
      "source": [
        "employee.groupBy(\"EnvironmentSatisfaction\").count().show(truncate=False)"
      ],
      "metadata": {
        "colab": {
          "base_uri": "https://localhost:8080/"
        },
        "id": "uo7Go0mWgGaW",
        "outputId": "abfbb8a3-5c37-40b1-d068-dcaddc24bfff"
      },
      "execution_count": 32,
      "outputs": [
        {
          "output_type": "stream",
          "name": "stdout",
          "text": [
            "+-----------------------+-----+\n",
            "|EnvironmentSatisfaction|count|\n",
            "+-----------------------+-----+\n",
            "|3                      |453  |\n",
            "|1                      |284  |\n",
            "|4                      |446  |\n",
            "|2                      |287  |\n",
            "+-----------------------+-----+\n",
            "\n"
          ]
        }
      ]
    },
    {
      "cell_type": "code",
      "source": [
        "employee = employee.withColumn(\"RelationshipSatisfaction\", employee[\"RelationshipSatisfaction\"].cast(IntegerType()))\n",
        "employee = employee.withColumn(\"EnvironmentSatisfaction\", employee[\"EnvironmentSatisfaction\"].cast(IntegerType()))"
      ],
      "metadata": {
        "id": "VNbcUvRJhQ0n"
      },
      "execution_count": 33,
      "outputs": []
    },
    {
      "cell_type": "code",
      "source": [
        "employee.stat.corr(\"RelationshipSatisfaction\", \"EnvironmentSatisfaction\")"
      ],
      "metadata": {
        "colab": {
          "base_uri": "https://localhost:8080/"
        },
        "id": "imSbA48Zgkzt",
        "outputId": "d5a1925a-a0f4-46eb-fe0d-d4484f08f417"
      },
      "execution_count": 34,
      "outputs": [
        {
          "output_type": "execute_result",
          "data": {
            "text/plain": [
              "0.007665383541074482"
            ]
          },
          "metadata": {},
          "execution_count": 34
        }
      ]
    },
    {
      "cell_type": "markdown",
      "source": [
        "The RelationshipSatisfaction does not affect the EnvironmentSatisfaction that much since the correlation between them is just 0.007665383541074482. The correlation is slightly higher than 0 and far from 1.0. This shows that event though the RelationshipSatisfaction is low, the EnvironmentSatisfaction may be very high."
      ],
      "metadata": {
        "id": "XcJJAc0mwKL-"
      }
    },
    {
      "cell_type": "markdown",
      "source": [
        "**Data Science Question 4**"
      ],
      "metadata": {
        "id": "HjYokFV9RQ5z"
      }
    },
    {
      "cell_type": "code",
      "source": [
        "employee.groupBy(\"JobSatisfaction\").count().show(truncate=False)"
      ],
      "metadata": {
        "colab": {
          "base_uri": "https://localhost:8080/"
        },
        "id": "KltKGeMYh_O4",
        "outputId": "24b6acfb-1881-488a-d47c-6d31debcf5b4"
      },
      "execution_count": 35,
      "outputs": [
        {
          "output_type": "stream",
          "name": "stdout",
          "text": [
            "+---------------+-----+\n",
            "|JobSatisfaction|count|\n",
            "+---------------+-----+\n",
            "|3              |442  |\n",
            "|1              |289  |\n",
            "|4              |459  |\n",
            "|2              |280  |\n",
            "+---------------+-----+\n",
            "\n"
          ]
        }
      ]
    },
    {
      "cell_type": "code",
      "source": [
        "employee.groupBy(\"PerformanceRating\").count().show(truncate=False)"
      ],
      "metadata": {
        "colab": {
          "base_uri": "https://localhost:8080/"
        },
        "id": "GGNDDnx_iDAG",
        "outputId": "f13120e1-fcc8-4ece-bad0-c9f0e65de182"
      },
      "execution_count": 36,
      "outputs": [
        {
          "output_type": "stream",
          "name": "stdout",
          "text": [
            "+-----------------+-----+\n",
            "|PerformanceRating|count|\n",
            "+-----------------+-----+\n",
            "|3                |1244 |\n",
            "|4                |226  |\n",
            "+-----------------+-----+\n",
            "\n"
          ]
        }
      ]
    },
    {
      "cell_type": "code",
      "source": [
        "employee = employee.withColumn(\"JobSatisfaction\", employee[\"JobSatisfaction\"].cast(IntegerType()))\n",
        "employee = employee.withColumn(\"PerformanceRating\", employee[\"PerformanceRating\"].cast(IntegerType()))"
      ],
      "metadata": {
        "id": "Sx1l9jUTiGPZ"
      },
      "execution_count": 37,
      "outputs": []
    },
    {
      "cell_type": "code",
      "source": [
        "employee.stat.corr(\"JobSatisfaction\", \"PerformanceRating\")"
      ],
      "metadata": {
        "colab": {
          "base_uri": "https://localhost:8080/"
        },
        "id": "OlH7lx8UidVf",
        "outputId": "e43f23cf-aeda-45d1-853a-ae096334590f"
      },
      "execution_count": 38,
      "outputs": [
        {
          "output_type": "execute_result",
          "data": {
            "text/plain": [
              "0.0022971970637806166"
            ]
          },
          "metadata": {},
          "execution_count": 38
        }
      ]
    },
    {
      "cell_type": "markdown",
      "source": [
        "The JobSatisfaction does not affect the PerformanceRating that much since the correlation between them is just 0.0022971970637806166. The correlation is slightly higher than 0 and far from 1.0. It shows that it does not mean that if employees have a very high JobSatisfaction, they will have an outstanding PerformanceRating and vice versa."
      ],
      "metadata": {
        "id": "7ZI47SaBwNZh"
      }
    },
    {
      "cell_type": "markdown",
      "source": [
        "**Data Science Question 5**"
      ],
      "metadata": {
        "id": "IVk-2MedRTmu"
      }
    },
    {
      "cell_type": "code",
      "source": [
        "over40 = employee.groupBy(\"Age\").agg(count(\"OverTime\").alias(\"OverTime\")).filter(employee.Age >= 40).show() "
      ],
      "metadata": {
        "colab": {
          "base_uri": "https://localhost:8080/"
        },
        "id": "nAZIdOyQuIwW",
        "outputId": "ac2aebad-37de-4b85-a442-7fcaef28b0d0"
      },
      "execution_count": 39,
      "outputs": [
        {
          "output_type": "stream",
          "name": "stdout",
          "text": [
            "+---+--------+\n",
            "|Age|OverTime|\n",
            "+---+--------+\n",
            "| 51|      19|\n",
            "| 54|      18|\n",
            "| 42|      46|\n",
            "| 59|      10|\n",
            "| 52|      18|\n",
            "| 47|      24|\n",
            "| 43|      32|\n",
            "| 46|      33|\n",
            "| 60|       5|\n",
            "| 41|      40|\n",
            "| 55|      22|\n",
            "| 40|      57|\n",
            "| 44|      33|\n",
            "| 53|      19|\n",
            "| 58|      14|\n",
            "| 48|      19|\n",
            "| 56|      14|\n",
            "| 49|      24|\n",
            "| 50|      30|\n",
            "| 45|      41|\n",
            "+---+--------+\n",
            "only showing top 20 rows\n",
            "\n"
          ]
        }
      ]
    },
    {
      "cell_type": "code",
      "source": [
        "below40 = employee.groupBy(\"Age\").agg(count(\"OverTime\").alias(\"OverTime\")).filter(employee.Age < 40).show() "
      ],
      "metadata": {
        "colab": {
          "base_uri": "https://localhost:8080/"
        },
        "id": "8C48p-SLrMMf",
        "outputId": "cf8660dc-a2b8-4119-8e04-2dd1d9b33f2d"
      },
      "execution_count": 40,
      "outputs": [
        {
          "output_type": "stream",
          "name": "stdout",
          "text": [
            "+---+--------+\n",
            "|Age|OverTime|\n",
            "+---+--------+\n",
            "| 29|      68|\n",
            "| 30|      60|\n",
            "| 34|      77|\n",
            "| 28|      48|\n",
            "| 22|      16|\n",
            "| 35|      78|\n",
            "| 31|      69|\n",
            "| 18|       8|\n",
            "| 27|      48|\n",
            "| 26|      39|\n",
            "| 19|       9|\n",
            "| 23|      14|\n",
            "| 38|      58|\n",
            "| 25|      26|\n",
            "| 33|      58|\n",
            "| 24|      26|\n",
            "| 32|      61|\n",
            "| 20|      11|\n",
            "| 36|      69|\n",
            "| 37|      50|\n",
            "+---+--------+\n",
            "only showing top 20 rows\n",
            "\n"
          ]
        }
      ]
    },
    {
      "cell_type": "markdown",
      "source": [
        "Based on the findings, it shows the number of employees who are above 40 years old while and the number of employees who are below 40 years old that prefer and not prefer for attrition."
      ],
      "metadata": {
        "id": "7-ufI5cpwR0i"
      }
    },
    {
      "cell_type": "markdown",
      "source": [
        "**Data Science Question 6**"
      ],
      "metadata": {
        "id": "LxkR7iyXRXma"
      }
    },
    {
      "cell_type": "code",
      "source": [
        "employee = employee.withColumn(\"TotalWorkingYears\", employee[\"TotalWorkingYears\"].cast(IntegerType()))\n",
        "employee = employee.withColumn(\"PercentSalaryHike\", employee[\"PercentSalaryHike\"].cast(IntegerType()))"
      ],
      "metadata": {
        "id": "7j4bAkPksG1S"
      },
      "execution_count": 41,
      "outputs": []
    },
    {
      "cell_type": "code",
      "source": [
        "employee.stat.corr(\"TotalWorkingYears\", \"PercentSalaryHike\")"
      ],
      "metadata": {
        "colab": {
          "base_uri": "https://localhost:8080/"
        },
        "id": "HZ8PgcfWsJX4",
        "outputId": "4abb5ee5-0b5d-40b5-ba3c-0e885e1792d5"
      },
      "execution_count": 42,
      "outputs": [
        {
          "output_type": "execute_result",
          "data": {
            "text/plain": [
              "-0.020608487617691393"
            ]
          },
          "metadata": {},
          "execution_count": 42
        }
      ]
    },
    {
      "cell_type": "code",
      "source": [
        "workYear_percentSal = employee.groupBy(\"TotalWorkingYears\").sum(\"PercentSalaryHike\")"
      ],
      "metadata": {
        "id": "AoHhyn-szyWK"
      },
      "execution_count": 43,
      "outputs": []
    },
    {
      "cell_type": "code",
      "source": [
        "x = workYear_percentSal.toPandas()[\"TotalWorkingYears\"].values.tolist()\n",
        "y = workYear_percentSal.toPandas()[\"sum(PercentSalaryHike)\"].values.tolist()"
      ],
      "metadata": {
        "id": "KnpC73JB0WlV"
      },
      "execution_count": 44,
      "outputs": []
    },
    {
      "cell_type": "code",
      "source": [
        "fig = plt.figure(figsize = (10, 5))\n",
        "plt.scatter(x,y)\n",
        "plt.title(\"Percent Salary Hike vs Total Working Years\")\n",
        "plt.xlabel(\"Total Working Years\")\n",
        "plt.ylabel(\"Percent Salary Hike\")\n",
        "plt.show()"
      ],
      "metadata": {
        "colab": {
          "base_uri": "https://localhost:8080/",
          "height": 350
        },
        "id": "p6m5LxnW0ws9",
        "outputId": "c1877581-e02a-4b17-d48f-a856586cadfa"
      },
      "execution_count": 45,
      "outputs": [
        {
          "output_type": "display_data",
          "data": {
            "text/plain": [
              "<Figure size 720x360 with 1 Axes>"
            ],
            "image/png": "[encoded data removed]"
          },
          "metadata": {
            "needs_background": "light"
          }
        }
      ]
    },
    {
      "cell_type": "markdown",
      "source": [
        "Based on the scattering of total working years to the percent salary hike, as the total working years increase, the percent salary hike decrease. This may relate to job scope that becoming smaller as it will be more specific tasks."
      ],
      "metadata": {
        "id": "sXcFwzoWwcbX"
      }
    },
    {
      "cell_type": "markdown",
      "source": [
        "**Data Science Question 7**"
      ],
      "metadata": {
        "id": "AvbmdPatRXU6"
      }
    },
    {
      "cell_type": "code",
      "source": [
        "employee.select(F.collect_set(\"JobRole\")).show(truncate=False)"
      ],
      "metadata": {
        "colab": {
          "base_uri": "https://localhost:8080/"
        },
        "id": "KQCpTUX_wZhG",
        "outputId": "1fb8e64b-96be-43f1-8baf-8187d6e3fab9"
      },
      "execution_count": 46,
      "outputs": [
        {
          "output_type": "stream",
          "name": "stdout",
          "text": [
            "+----------------------------------------------------------------------------------------------------------------------------------------------------------------------------------+\n",
            "|collect_set(JobRole)                                                                                                                                                              |\n",
            "+----------------------------------------------------------------------------------------------------------------------------------------------------------------------------------+\n",
            "|[Human Resources, Research Director, Healthcare Representative, Manufacturing Director, Sales Executive, Laboratory Technician, Manager, Sales Representative, Research Scientist]|\n",
            "+----------------------------------------------------------------------------------------------------------------------------------------------------------------------------------+\n",
            "\n"
          ]
        }
      ]
    },
    {
      "cell_type": "code",
      "source": [
        "employee.describe(\"JobRole\").show(truncate=False)"
      ],
      "metadata": {
        "colab": {
          "base_uri": "https://localhost:8080/"
        },
        "id": "XutOOgbjwhB_",
        "outputId": "a519afbf-983b-429b-f6ca-12cc0effb1c7"
      },
      "execution_count": 47,
      "outputs": [
        {
          "output_type": "stream",
          "name": "stdout",
          "text": [
            "+-------+-------------------------+\n",
            "|summary|JobRole                  |\n",
            "+-------+-------------------------+\n",
            "|count  |1470                     |\n",
            "|mean   |null                     |\n",
            "|stddev |null                     |\n",
            "|min    |Healthcare Representative|\n",
            "|max    |Sales Representative     |\n",
            "+-------+-------------------------+\n",
            "\n"
          ]
        }
      ]
    },
    {
      "cell_type": "code",
      "source": [
        "employee.select([\"OverTime\", \"JobRole\", \"JobLevel\"]).where(employee.OverTime==\"Yes\").collect()"
      ],
      "metadata": {
        "colab": {
          "base_uri": "https://localhost:8080/"
        },
        "id": "BJnSHupVq7kr",
        "outputId": "c16599eb-c568-405d-df23-75677c810613"
      },
      "execution_count": 48,
      "outputs": [
        {
          "output_type": "execute_result",
          "data": {
            "text/plain": [
              "[Row(OverTime='Yes', JobRole='Laboratory Technician', JobLevel='1'),\n",
              " Row(OverTime='Yes', JobRole='Research Director', JobLevel='4'),\n",
              " Row(OverTime='Yes', JobRole='Manufacturing Director', JobLevel='4'),\n",
              " Row(OverTime='Yes', JobRole='Research Scientist', JobLevel='2'),\n",
              " Row(OverTime='Yes', JobRole='Manufacturing Director', JobLevel='2'),\n",
              " Row(OverTime='Yes', JobRole='Manager', JobLevel='5'),\n",
              " Row(OverTime='Yes', JobRole='Sales Executive', JobLevel='2'),\n",
              " Row(OverTime='Yes', JobRole='Sales Executive', JobLevel='3'),\n",
              " Row(OverTime='Yes', JobRole='Manufacturing Director', JobLevel='2'),\n",
              " Row(OverTime='Yes', JobRole='Research Scientist', JobLevel='1'),\n",
              " Row(OverTime='Yes', JobRole='Sales Executive', JobLevel='2'),\n",
              " Row(OverTime='Yes', JobRole='Research Scientist', JobLevel='1'),\n",
              " Row(OverTime='Yes', JobRole='Sales Executive', JobLevel='2'),\n",
              " Row(OverTime='Yes', JobRole='Human Resources', JobLevel='3'),\n",
              " Row(OverTime='Yes', JobRole='Sales Executive', JobLevel='3'),\n",
              " Row(OverTime='Yes', JobRole='Laboratory Technician', JobLevel='1'),\n",
              " Row(OverTime='Yes', JobRole='Human Resources', JobLevel='1'),\n",
              " Row(OverTime='Yes', JobRole='Sales Representative', JobLevel='1'),\n",
              " Row(OverTime='Yes', JobRole='Sales Executive', JobLevel='2'),\n",
              " Row(OverTime='Yes', JobRole='Research Director', JobLevel='3'),\n",
              " Row(OverTime='Yes', JobRole='Sales Executive', JobLevel='3'),\n",
              " Row(OverTime='Yes', JobRole='Research Scientist', JobLevel='1'),\n",
              " Row(OverTime='Yes', JobRole='Sales Executive', JobLevel='2'),\n",
              " Row(OverTime='Yes', JobRole='Manufacturing Director', JobLevel='3'),\n",
              " Row(OverTime='Yes', JobRole='Healthcare Representative', JobLevel='2'),\n",
              " Row(OverTime='Yes', JobRole='Healthcare Representative', JobLevel='4'),\n",
              " Row(OverTime='Yes', JobRole='Human Resources', JobLevel='1'),\n",
              " Row(OverTime='Yes', JobRole='Research Scientist', JobLevel='2'),\n",
              " Row(OverTime='Yes', JobRole='Research Scientist', JobLevel='1'),\n",
              " Row(OverTime='Yes', JobRole='Human Resources', JobLevel='1'),\n",
              " Row(OverTime='Yes', JobRole='Laboratory Technician', JobLevel='1'),\n",
              " Row(OverTime='Yes', JobRole='Sales Executive', JobLevel='2'),\n",
              " Row(OverTime='Yes', JobRole='Healthcare Representative', JobLevel='4'),\n",
              " Row(OverTime='Yes', JobRole='Sales Representative', JobLevel='1'),\n",
              " Row(OverTime='Yes', JobRole='Manufacturing Director', JobLevel='2'),\n",
              " Row(OverTime='Yes', JobRole='Research Scientist', JobLevel='2'),\n",
              " Row(OverTime='Yes', JobRole='Sales Representative', JobLevel='1'),\n",
              " Row(OverTime='Yes', JobRole='Manufacturing Director', JobLevel='2'),\n",
              " Row(OverTime='Yes', JobRole='Research Scientist', JobLevel='1'),\n",
              " Row(OverTime='Yes', JobRole='Manager', JobLevel='3'),\n",
              " Row(OverTime='Yes', JobRole='Laboratory Technician', JobLevel='2'),\n",
              " Row(OverTime='Yes', JobRole='Laboratory Technician', JobLevel='2'),\n",
              " Row(OverTime='Yes', JobRole='Sales Executive', JobLevel='2'),\n",
              " Row(OverTime='Yes', JobRole='Research Scientist', JobLevel='1'),\n",
              " Row(OverTime='Yes', JobRole='Laboratory Technician', JobLevel='1'),\n",
              " Row(OverTime='Yes', JobRole='Manufacturing Director', JobLevel='2'),\n",
              " Row(OverTime='Yes', JobRole='Research Director', JobLevel='3'),\n",
              " Row(OverTime='Yes', JobRole='Laboratory Technician', JobLevel='3'),\n",
              " Row(OverTime='Yes', JobRole='Research Scientist', JobLevel='1'),\n",
              " Row(OverTime='Yes', JobRole='Research Scientist', JobLevel='2'),\n",
              " Row(OverTime='Yes', JobRole='Research Scientist', JobLevel='2'),\n",
              " Row(OverTime='Yes', JobRole='Manufacturing Director', JobLevel='3'),\n",
              " Row(OverTime='Yes', JobRole='Healthcare Representative', JobLevel='3'),\n",
              " Row(OverTime='Yes', JobRole='Human Resources', JobLevel='1'),\n",
              " Row(OverTime='Yes', JobRole='Laboratory Technician', JobLevel='1'),\n",
              " Row(OverTime='Yes', JobRole='Research Scientist', JobLevel='2'),\n",
              " Row(OverTime='Yes', JobRole='Sales Representative', JobLevel='1'),\n",
              " Row(OverTime='Yes', JobRole='Laboratory Technician', JobLevel='1'),\n",
              " Row(OverTime='Yes', JobRole='Sales Representative', JobLevel='1'),\n",
              " Row(OverTime='Yes', JobRole='Research Director', JobLevel='3'),\n",
              " Row(OverTime='Yes', JobRole='Research Scientist', JobLevel='2'),\n",
              " Row(OverTime='Yes', JobRole='Manager', JobLevel='5'),\n",
              " Row(OverTime='Yes', JobRole='Research Scientist', JobLevel='1'),\n",
              " Row(OverTime='Yes', JobRole='Sales Executive', JobLevel='2'),\n",
              " Row(OverTime='Yes', JobRole='Manager', JobLevel='4'),\n",
              " Row(OverTime='Yes', JobRole='Research Scientist', JobLevel='1'),\n",
              " Row(OverTime='Yes', JobRole='Manufacturing Director', JobLevel='2'),\n",
              " Row(OverTime='Yes', JobRole='Laboratory Technician', JobLevel='1'),\n",
              " Row(OverTime='Yes', JobRole='Healthcare Representative', JobLevel='2'),\n",
              " Row(OverTime='Yes', JobRole='Laboratory Technician', JobLevel='2'),\n",
              " Row(OverTime='Yes', JobRole='Manufacturing Director', JobLevel='2'),\n",
              " Row(OverTime='Yes', JobRole='Manufacturing Director', JobLevel='2'),\n",
              " Row(OverTime='Yes', JobRole='Research Scientist', JobLevel='1'),\n",
              " Row(OverTime='Yes', JobRole='Healthcare Representative', JobLevel='2'),\n",
              " Row(OverTime='Yes', JobRole='Research Scientist', JobLevel='1'),\n",
              " Row(OverTime='Yes', JobRole='Sales Executive', JobLevel='2'),\n",
              " Row(OverTime='Yes', JobRole='Research Scientist', JobLevel='1'),\n",
              " Row(OverTime='Yes', JobRole='Research Scientist', JobLevel='1'),\n",
              " Row(OverTime='Yes', JobRole='Manager', JobLevel='4'),\n",
              " Row(OverTime='Yes', JobRole='Laboratory Technician', JobLevel='1'),\n",
              " Row(OverTime='Yes', JobRole='Research Scientist', JobLevel='1'),\n",
              " Row(OverTime='Yes', JobRole='Laboratory Technician', JobLevel='1'),\n",
              " Row(OverTime='Yes', JobRole='Healthcare Representative', JobLevel='3'),\n",
              " Row(OverTime='Yes', JobRole='Healthcare Representative', JobLevel='2'),\n",
              " Row(OverTime='Yes', JobRole='Research Scientist', JobLevel='1'),\n",
              " Row(OverTime='Yes', JobRole='Research Scientist', JobLevel='2'),\n",
              " Row(OverTime='Yes', JobRole='Research Scientist', JobLevel='1'),\n",
              " Row(OverTime='Yes', JobRole='Human Resources', JobLevel='1'),\n",
              " Row(OverTime='Yes', JobRole='Sales Executive', JobLevel='2'),\n",
              " Row(OverTime='Yes', JobRole='Healthcare Representative', JobLevel='2'),\n",
              " Row(OverTime='Yes', JobRole='Human Resources', JobLevel='1'),\n",
              " Row(OverTime='Yes', JobRole='Sales Executive', JobLevel='2'),\n",
              " Row(OverTime='Yes', JobRole='Research Scientist', JobLevel='1'),\n",
              " Row(OverTime='Yes', JobRole='Healthcare Representative', JobLevel='2'),\n",
              " Row(OverTime='Yes', JobRole='Manufacturing Director', JobLevel='2'),\n",
              " Row(OverTime='Yes', JobRole='Research Director', JobLevel='4'),\n",
              " Row(OverTime='Yes', JobRole='Sales Executive', JobLevel='2'),\n",
              " Row(OverTime='Yes', JobRole='Research Director', JobLevel='5'),\n",
              " Row(OverTime='Yes', JobRole='Healthcare Representative', JobLevel='3'),\n",
              " Row(OverTime='Yes', JobRole='Manager', JobLevel='5'),\n",
              " Row(OverTime='Yes', JobRole='Manufacturing Director', JobLevel='2'),\n",
              " Row(OverTime='Yes', JobRole='Healthcare Representative', JobLevel='3'),\n",
              " Row(OverTime='Yes', JobRole='Sales Representative', JobLevel='1'),\n",
              " Row(OverTime='Yes', JobRole='Manufacturing Director', JobLevel='3'),\n",
              " Row(OverTime='Yes', JobRole='Sales Executive', JobLevel='2'),\n",
              " Row(OverTime='Yes', JobRole='Healthcare Representative', JobLevel='4'),\n",
              " Row(OverTime='Yes', JobRole='Laboratory Technician', JobLevel='1'),\n",
              " Row(OverTime='Yes', JobRole='Sales Representative', JobLevel='1'),\n",
              " Row(OverTime='Yes', JobRole='Healthcare Representative', JobLevel='4'),\n",
              " Row(OverTime='Yes', JobRole='Sales Executive', JobLevel='2'),\n",
              " Row(OverTime='Yes', JobRole='Sales Executive', JobLevel='2'),\n",
              " Row(OverTime='Yes', JobRole='Sales Representative', JobLevel='1'),\n",
              " Row(OverTime='Yes', JobRole='Research Director', JobLevel='5'),\n",
              " Row(OverTime='Yes', JobRole='Research Scientist', JobLevel='1'),\n",
              " Row(OverTime='Yes', JobRole='Sales Executive', JobLevel='3'),\n",
              " Row(OverTime='Yes', JobRole='Manufacturing Director', JobLevel='3'),\n",
              " Row(OverTime='Yes', JobRole='Sales Executive', JobLevel='3'),\n",
              " Row(OverTime='Yes', JobRole='Research Scientist', JobLevel='2'),\n",
              " Row(OverTime='Yes', JobRole='Manufacturing Director', JobLevel='2'),\n",
              " Row(OverTime='Yes', JobRole='Laboratory Technician', JobLevel='2'),\n",
              " Row(OverTime='Yes', JobRole='Research Scientist', JobLevel='1'),\n",
              " Row(OverTime='Yes', JobRole='Research Scientist', JobLevel='1'),\n",
              " Row(OverTime='Yes', JobRole='Research Director', JobLevel='3'),\n",
              " Row(OverTime='Yes', JobRole='Laboratory Technician', JobLevel='1'),\n",
              " Row(OverTime='Yes', JobRole='Healthcare Representative', JobLevel='2'),\n",
              " Row(OverTime='Yes', JobRole='Sales Representative', JobLevel='1'),\n",
              " Row(OverTime='Yes', JobRole='Sales Executive', JobLevel='2'),\n",
              " Row(OverTime='Yes', JobRole='Sales Executive', JobLevel='2'),\n",
              " Row(OverTime='Yes', JobRole='Sales Executive', JobLevel='2'),\n",
              " Row(OverTime='Yes', JobRole='Sales Executive', JobLevel='2'),\n",
              " Row(OverTime='Yes', JobRole='Sales Executive', JobLevel='3'),\n",
              " Row(OverTime='Yes', JobRole='Human Resources', JobLevel='2'),\n",
              " Row(OverTime='Yes', JobRole='Sales Executive', JobLevel='2'),\n",
              " Row(OverTime='Yes', JobRole='Laboratory Technician', JobLevel='1'),\n",
              " Row(OverTime='Yes', JobRole='Research Scientist', JobLevel='1'),\n",
              " Row(OverTime='Yes', JobRole='Manager', JobLevel='5'),\n",
              " Row(OverTime='Yes', JobRole='Research Director', JobLevel='3'),\n",
              " Row(OverTime='Yes', JobRole='Sales Representative', JobLevel='1'),\n",
              " Row(OverTime='Yes', JobRole='Laboratory Technician', JobLevel='1'),\n",
              " Row(OverTime='Yes', JobRole='Manager', JobLevel='4'),\n",
              " Row(OverTime='Yes', JobRole='Sales Representative', JobLevel='1'),\n",
              " Row(OverTime='Yes', JobRole='Laboratory Technician', JobLevel='2'),\n",
              " Row(OverTime='Yes', JobRole='Healthcare Representative', JobLevel='2'),\n",
              " Row(OverTime='Yes', JobRole='Research Scientist', JobLevel='1'),\n",
              " Row(OverTime='Yes', JobRole='Laboratory Technician', JobLevel='2'),\n",
              " Row(OverTime='Yes', JobRole='Sales Executive', JobLevel='2'),\n",
              " Row(OverTime='Yes', JobRole='Research Scientist', JobLevel='1'),\n",
              " Row(OverTime='Yes', JobRole='Human Resources', JobLevel='3'),\n",
              " Row(OverTime='Yes', JobRole='Manager', JobLevel='5'),\n",
              " Row(OverTime='Yes', JobRole='Research Scientist', JobLevel='2'),\n",
              " Row(OverTime='Yes', JobRole='Research Scientist', JobLevel='1'),\n",
              " Row(OverTime='Yes', JobRole='Laboratory Technician', JobLevel='1'),\n",
              " Row(OverTime='Yes', JobRole='Research Director', JobLevel='4'),\n",
              " Row(OverTime='Yes', JobRole='Research Scientist', JobLevel='2'),\n",
              " Row(OverTime='Yes', JobRole='Laboratory Technician', JobLevel='1'),\n",
              " Row(OverTime='Yes', JobRole='Research Scientist', JobLevel='1'),\n",
              " Row(OverTime='Yes', JobRole='Research Scientist', JobLevel='1'),\n",
              " Row(OverTime='Yes', JobRole='Sales Representative', JobLevel='1'),\n",
              " Row(OverTime='Yes', JobRole='Sales Executive', JobLevel='3'),\n",
              " Row(OverTime='Yes', JobRole='Sales Executive', JobLevel='2'),\n",
              " Row(OverTime='Yes', JobRole='Sales Executive', JobLevel='2'),\n",
              " Row(OverTime='Yes', JobRole='Research Scientist', JobLevel='1'),\n",
              " Row(OverTime='Yes', JobRole='Research Scientist', JobLevel='2'),\n",
              " Row(OverTime='Yes', JobRole='Laboratory Technician', JobLevel='1'),\n",
              " Row(OverTime='Yes', JobRole='Sales Executive', JobLevel='2'),\n",
              " Row(OverTime='Yes', JobRole='Research Director', JobLevel='3'),\n",
              " Row(OverTime='Yes', JobRole='Research Scientist', JobLevel='1'),\n",
              " Row(OverTime='Yes', JobRole='Research Scientist', JobLevel='1'),\n",
              " Row(OverTime='Yes', JobRole='Sales Executive', JobLevel='2'),\n",
              " Row(OverTime='Yes', JobRole='Sales Executive', JobLevel='2'),\n",
              " Row(OverTime='Yes', JobRole='Research Scientist', JobLevel='1'),\n",
              " Row(OverTime='Yes', JobRole='Research Director', JobLevel='5'),\n",
              " Row(OverTime='Yes', JobRole='Research Scientist', JobLevel='1'),\n",
              " Row(OverTime='Yes', JobRole='Research Scientist', JobLevel='1'),\n",
              " Row(OverTime='Yes', JobRole='Manager', JobLevel='5'),\n",
              " Row(OverTime='Yes', JobRole='Research Director', JobLevel='3'),\n",
              " Row(OverTime='Yes', JobRole='Research Director', JobLevel='5'),\n",
              " Row(OverTime='Yes', JobRole='Sales Executive', JobLevel='2'),\n",
              " Row(OverTime='Yes', JobRole='Healthcare Representative', JobLevel='2'),\n",
              " Row(OverTime='Yes', JobRole='Sales Executive', JobLevel='2'),\n",
              " Row(OverTime='Yes', JobRole='Research Director', JobLevel='5'),\n",
              " Row(OverTime='Yes', JobRole='Manufacturing Director', JobLevel='2'),\n",
              " Row(OverTime='Yes', JobRole='Sales Executive', JobLevel='2'),\n",
              " Row(OverTime='Yes', JobRole='Sales Executive', JobLevel='2'),\n",
              " Row(OverTime='Yes', JobRole='Research Scientist', JobLevel='1'),\n",
              " Row(OverTime='Yes', JobRole='Laboratory Technician', JobLevel='1'),\n",
              " Row(OverTime='Yes', JobRole='Sales Executive', JobLevel='4'),\n",
              " Row(OverTime='Yes', JobRole='Sales Executive', JobLevel='2'),\n",
              " Row(OverTime='Yes', JobRole='Research Scientist', JobLevel='1'),\n",
              " Row(OverTime='Yes', JobRole='Manufacturing Director', JobLevel='3'),\n",
              " Row(OverTime='Yes', JobRole='Research Scientist', JobLevel='1'),\n",
              " Row(OverTime='Yes', JobRole='Research Scientist', JobLevel='1'),\n",
              " Row(OverTime='Yes', JobRole='Research Scientist', JobLevel='1'),\n",
              " Row(OverTime='Yes', JobRole='Sales Executive', JobLevel='2'),\n",
              " Row(OverTime='Yes', JobRole='Research Scientist', JobLevel='1'),\n",
              " Row(OverTime='Yes', JobRole='Manufacturing Director', JobLevel='3'),\n",
              " Row(OverTime='Yes', JobRole='Research Director', JobLevel='4'),\n",
              " Row(OverTime='Yes', JobRole='Manager', JobLevel='5'),\n",
              " Row(OverTime='Yes', JobRole='Healthcare Representative', JobLevel='2'),\n",
              " Row(OverTime='Yes', JobRole='Research Scientist', JobLevel='1'),\n",
              " Row(OverTime='Yes', JobRole='Healthcare Representative', JobLevel='2'),\n",
              " Row(OverTime='Yes', JobRole='Sales Executive', JobLevel='2'),\n",
              " Row(OverTime='Yes', JobRole='Research Scientist', JobLevel='1'),\n",
              " Row(OverTime='Yes', JobRole='Sales Executive', JobLevel='2'),\n",
              " Row(OverTime='Yes', JobRole='Manager', JobLevel='5'),\n",
              " Row(OverTime='Yes', JobRole='Research Scientist', JobLevel='1'),\n",
              " Row(OverTime='Yes', JobRole='Healthcare Representative', JobLevel='3'),\n",
              " Row(OverTime='Yes', JobRole='Sales Executive', JobLevel='2'),\n",
              " Row(OverTime='Yes', JobRole='Research Scientist', JobLevel='1'),\n",
              " Row(OverTime='Yes', JobRole='Healthcare Representative', JobLevel='2'),\n",
              " Row(OverTime='Yes', JobRole='Manufacturing Director', JobLevel='2'),\n",
              " Row(OverTime='Yes', JobRole='Manager', JobLevel='5'),\n",
              " Row(OverTime='Yes', JobRole='Sales Executive', JobLevel='3'),\n",
              " Row(OverTime='Yes', JobRole='Research Scientist', JobLevel='2'),\n",
              " Row(OverTime='Yes', JobRole='Manager', JobLevel='4'),\n",
              " Row(OverTime='Yes', JobRole='Manufacturing Director', JobLevel='4'),\n",
              " Row(OverTime='Yes', JobRole='Laboratory Technician', JobLevel='2'),\n",
              " Row(OverTime='Yes', JobRole='Sales Executive', JobLevel='2'),\n",
              " Row(OverTime='Yes', JobRole='Research Scientist', JobLevel='1'),\n",
              " Row(OverTime='Yes', JobRole='Sales Executive', JobLevel='3'),\n",
              " Row(OverTime='Yes', JobRole='Laboratory Technician', JobLevel='1'),\n",
              " Row(OverTime='Yes', JobRole='Research Scientist', JobLevel='1'),\n",
              " Row(OverTime='Yes', JobRole='Laboratory Technician', JobLevel='1'),\n",
              " Row(OverTime='Yes', JobRole='Healthcare Representative', JobLevel='3'),\n",
              " Row(OverTime='Yes', JobRole='Sales Executive', JobLevel='2'),\n",
              " Row(OverTime='Yes', JobRole='Research Scientist', JobLevel='1'),\n",
              " Row(OverTime='Yes', JobRole='Sales Executive', JobLevel='3'),\n",
              " Row(OverTime='Yes', JobRole='Human Resources', JobLevel='2'),\n",
              " Row(OverTime='Yes', JobRole='Sales Executive', JobLevel='2'),\n",
              " Row(OverTime='Yes', JobRole='Research Scientist', JobLevel='1'),\n",
              " Row(OverTime='Yes', JobRole='Manufacturing Director', JobLevel='3'),\n",
              " Row(OverTime='Yes', JobRole='Sales Executive', JobLevel='3'),\n",
              " Row(OverTime='Yes', JobRole='Manufacturing Director', JobLevel='4'),\n",
              " Row(OverTime='Yes', JobRole='Healthcare Representative', JobLevel='3'),\n",
              " Row(OverTime='Yes', JobRole='Sales Executive', JobLevel='2'),\n",
              " Row(OverTime='Yes', JobRole='Research Director', JobLevel='3'),\n",
              " Row(OverTime='Yes', JobRole='Research Scientist', JobLevel='2'),\n",
              " Row(OverTime='Yes', JobRole='Laboratory Technician', JobLevel='1'),\n",
              " Row(OverTime='Yes', JobRole='Sales Representative', JobLevel='1'),\n",
              " Row(OverTime='Yes', JobRole='Healthcare Representative', JobLevel='3'),\n",
              " Row(OverTime='Yes', JobRole='Healthcare Representative', JobLevel='2'),\n",
              " Row(OverTime='Yes', JobRole='Laboratory Technician', JobLevel='1'),\n",
              " Row(OverTime='Yes', JobRole='Manufacturing Director', JobLevel='2'),\n",
              " Row(OverTime='Yes', JobRole='Laboratory Technician', JobLevel='1'),\n",
              " Row(OverTime='Yes', JobRole='Laboratory Technician', JobLevel='1'),\n",
              " Row(OverTime='Yes', JobRole='Sales Executive', JobLevel='2'),\n",
              " Row(OverTime='Yes', JobRole='Research Scientist', JobLevel='2'),\n",
              " Row(OverTime='Yes', JobRole='Sales Executive', JobLevel='2'),\n",
              " Row(OverTime='Yes', JobRole='Laboratory Technician', JobLevel='2'),\n",
              " Row(OverTime='Yes', JobRole='Human Resources', JobLevel='2'),\n",
              " Row(OverTime='Yes', JobRole='Manufacturing Director', JobLevel='3'),\n",
              " Row(OverTime='Yes', JobRole='Manufacturing Director', JobLevel='3'),\n",
              " Row(OverTime='Yes', JobRole='Laboratory Technician', JobLevel='1'),\n",
              " Row(OverTime='Yes', JobRole='Manager', JobLevel='4'),\n",
              " Row(OverTime='Yes', JobRole='Sales Executive', JobLevel='3'),\n",
              " Row(OverTime='Yes', JobRole='Sales Executive', JobLevel='3'),\n",
              " Row(OverTime='Yes', JobRole='Sales Executive', JobLevel='4'),\n",
              " Row(OverTime='Yes', JobRole='Research Scientist', JobLevel='1'),\n",
              " Row(OverTime='Yes', JobRole='Manufacturing Director', JobLevel='3'),\n",
              " Row(OverTime='Yes', JobRole='Sales Executive', JobLevel='2'),\n",
              " Row(OverTime='Yes', JobRole='Sales Executive', JobLevel='3'),\n",
              " Row(OverTime='Yes', JobRole='Manufacturing Director', JobLevel='2'),\n",
              " Row(OverTime='Yes', JobRole='Research Scientist', JobLevel='1'),\n",
              " Row(OverTime='Yes', JobRole='Healthcare Representative', JobLevel='3'),\n",
              " Row(OverTime='Yes', JobRole='Research Scientist', JobLevel='1'),\n",
              " Row(OverTime='Yes', JobRole='Research Director', JobLevel='4'),\n",
              " Row(OverTime='Yes', JobRole='Sales Executive', JobLevel='2'),\n",
              " Row(OverTime='Yes', JobRole='Healthcare Representative', JobLevel='3'),\n",
              " Row(OverTime='Yes', JobRole='Sales Representative', JobLevel='1'),\n",
              " Row(OverTime='Yes', JobRole='Sales Executive', JobLevel='3'),\n",
              " Row(OverTime='Yes', JobRole='Laboratory Technician', JobLevel='1'),\n",
              " Row(OverTime='Yes', JobRole='Research Scientist', JobLevel='1'),\n",
              " Row(OverTime='Yes', JobRole='Sales Executive', JobLevel='2'),\n",
              " Row(OverTime='Yes', JobRole='Sales Executive', JobLevel='2'),\n",
              " Row(OverTime='Yes', JobRole='Manager', JobLevel='4'),\n",
              " Row(OverTime='Yes', JobRole='Laboratory Technician', JobLevel='1'),\n",
              " Row(OverTime='Yes', JobRole='Laboratory Technician', JobLevel='1'),\n",
              " Row(OverTime='Yes', JobRole='Sales Executive', JobLevel='3'),\n",
              " Row(OverTime='Yes', JobRole='Sales Executive', JobLevel='2'),\n",
              " Row(OverTime='Yes', JobRole='Sales Representative', JobLevel='1'),\n",
              " Row(OverTime='Yes', JobRole='Manufacturing Director', JobLevel='2'),\n",
              " Row(OverTime='Yes', JobRole='Research Scientist', JobLevel='1'),\n",
              " Row(OverTime='Yes', JobRole='Laboratory Technician', JobLevel='1'),\n",
              " Row(OverTime='Yes', JobRole='Sales Executive', JobLevel='2'),\n",
              " Row(OverTime='Yes', JobRole='Research Scientist', JobLevel='1'),\n",
              " Row(OverTime='Yes', JobRole='Manager', JobLevel='4'),\n",
              " Row(OverTime='Yes', JobRole='Manager', JobLevel='3'),\n",
              " Row(OverTime='Yes', JobRole='Manager', JobLevel='4'),\n",
              " Row(OverTime='Yes', JobRole='Sales Executive', JobLevel='4'),\n",
              " Row(OverTime='Yes', JobRole='Manufacturing Director', JobLevel='3'),\n",
              " Row(OverTime='Yes', JobRole='Laboratory Technician', JobLevel='1'),\n",
              " Row(OverTime='Yes', JobRole='Research Scientist', JobLevel='1'),\n",
              " Row(OverTime='Yes', JobRole='Manager', JobLevel='3'),\n",
              " Row(OverTime='Yes', JobRole='Sales Representative', JobLevel='1'),\n",
              " Row(OverTime='Yes', JobRole='Research Scientist', JobLevel='1'),\n",
              " Row(OverTime='Yes', JobRole='Sales Executive', JobLevel='2'),\n",
              " Row(OverTime='Yes', JobRole='Manufacturing Director', JobLevel='4'),\n",
              " Row(OverTime='Yes', JobRole='Sales Executive', JobLevel='3'),\n",
              " Row(OverTime='Yes', JobRole='Laboratory Technician', JobLevel='1'),\n",
              " Row(OverTime='Yes', JobRole='Research Scientist', JobLevel='1'),\n",
              " Row(OverTime='Yes', JobRole='Laboratory Technician', JobLevel='1'),\n",
              " Row(OverTime='Yes', JobRole='Research Scientist', JobLevel='1'),\n",
              " Row(OverTime='Yes', JobRole='Sales Executive', JobLevel='2'),\n",
              " Row(OverTime='Yes', JobRole='Manufacturing Director', JobLevel='2'),\n",
              " Row(OverTime='Yes', JobRole='Laboratory Technician', JobLevel='1'),\n",
              " Row(OverTime='Yes', JobRole='Sales Executive', JobLevel='2'),\n",
              " Row(OverTime='Yes', JobRole='Research Scientist', JobLevel='1'),\n",
              " Row(OverTime='Yes', JobRole='Manager', JobLevel='4'),\n",
              " Row(OverTime='Yes', JobRole='Laboratory Technician', JobLevel='1'),\n",
              " Row(OverTime='Yes', JobRole='Research Director', JobLevel='5'),\n",
              " Row(OverTime='Yes', JobRole='Sales Executive', JobLevel='2'),\n",
              " Row(OverTime='Yes', JobRole='Research Scientist', JobLevel='2'),\n",
              " Row(OverTime='Yes', JobRole='Manager', JobLevel='4'),\n",
              " Row(OverTime='Yes', JobRole='Research Scientist', JobLevel='1'),\n",
              " Row(OverTime='Yes', JobRole='Healthcare Representative', JobLevel='2'),\n",
              " Row(OverTime='Yes', JobRole='Manufacturing Director', JobLevel='3'),\n",
              " Row(OverTime='Yes', JobRole='Sales Executive', JobLevel='3'),\n",
              " Row(OverTime='Yes', JobRole='Laboratory Technician', JobLevel='1'),\n",
              " Row(OverTime='Yes', JobRole='Sales Executive', JobLevel='2'),\n",
              " Row(OverTime='Yes', JobRole='Sales Executive', JobLevel='2'),\n",
              " Row(OverTime='Yes', JobRole='Sales Representative', JobLevel='1'),\n",
              " Row(OverTime='Yes', JobRole='Sales Executive', JobLevel='4'),\n",
              " Row(OverTime='Yes', JobRole='Sales Executive', JobLevel='2'),\n",
              " Row(OverTime='Yes', JobRole='Research Scientist', JobLevel='1'),\n",
              " Row(OverTime='Yes', JobRole='Sales Representative', JobLevel='1'),\n",
              " Row(OverTime='Yes', JobRole='Sales Executive', JobLevel='2'),\n",
              " Row(OverTime='Yes', JobRole='Research Scientist', JobLevel='2'),\n",
              " Row(OverTime='Yes', JobRole='Manufacturing Director', JobLevel='4'),\n",
              " Row(OverTime='Yes', JobRole='Research Scientist', JobLevel='1'),\n",
              " Row(OverTime='Yes', JobRole='Manager', JobLevel='3'),\n",
              " Row(OverTime='Yes', JobRole='Laboratory Technician', JobLevel='1'),\n",
              " Row(OverTime='Yes', JobRole='Research Scientist', JobLevel='1'),\n",
              " Row(OverTime='Yes', JobRole='Manufacturing Director', JobLevel='2'),\n",
              " Row(OverTime='Yes', JobRole='Healthcare Representative', JobLevel='2'),\n",
              " Row(OverTime='Yes', JobRole='Sales Representative', JobLevel='1'),\n",
              " Row(OverTime='Yes', JobRole='Sales Representative', JobLevel='1'),\n",
              " Row(OverTime='Yes', JobRole='Laboratory Technician', JobLevel='1'),\n",
              " Row(OverTime='Yes', JobRole='Laboratory Technician', JobLevel='1'),\n",
              " Row(OverTime='Yes', JobRole='Sales Executive', JobLevel='2'),\n",
              " Row(OverTime='Yes', JobRole='Laboratory Technician', JobLevel='1'),\n",
              " Row(OverTime='Yes', JobRole='Laboratory Technician', JobLevel='1'),\n",
              " Row(OverTime='Yes', JobRole='Research Director', JobLevel='5'),\n",
              " Row(OverTime='Yes', JobRole='Healthcare Representative', JobLevel='2'),\n",
              " Row(OverTime='Yes', JobRole='Sales Executive', JobLevel='2'),\n",
              " Row(OverTime='Yes', JobRole='Research Scientist', JobLevel='1'),\n",
              " Row(OverTime='Yes', JobRole='Laboratory Technician', JobLevel='1'),\n",
              " Row(OverTime='Yes', JobRole='Laboratory Technician', JobLevel='1'),\n",
              " Row(OverTime='Yes', JobRole='Sales Executive', JobLevel='2'),\n",
              " Row(OverTime='Yes', JobRole='Manufacturing Director', JobLevel='2'),\n",
              " Row(OverTime='Yes', JobRole='Laboratory Technician', JobLevel='1'),\n",
              " Row(OverTime='Yes', JobRole='Manager', JobLevel='4'),\n",
              " Row(OverTime='Yes', JobRole='Research Scientist', JobLevel='1'),\n",
              " Row(OverTime='Yes', JobRole='Sales Executive', JobLevel='3'),\n",
              " Row(OverTime='Yes', JobRole='Human Resources', JobLevel='1'),\n",
              " Row(OverTime='Yes', JobRole='Sales Executive', JobLevel='2'),\n",
              " Row(OverTime='Yes', JobRole='Manager', JobLevel='3'),\n",
              " Row(OverTime='Yes', JobRole='Healthcare Representative', JobLevel='2'),\n",
              " Row(OverTime='Yes', JobRole='Laboratory Technician', JobLevel='1'),\n",
              " Row(OverTime='Yes', JobRole='Research Scientist', JobLevel='1'),\n",
              " Row(OverTime='Yes', JobRole='Sales Representative', JobLevel='2'),\n",
              " Row(OverTime='Yes', JobRole='Research Scientist', JobLevel='1'),\n",
              " Row(OverTime='Yes', JobRole='Sales Representative', JobLevel='2'),\n",
              " Row(OverTime='Yes', JobRole='Research Scientist', JobLevel='1'),\n",
              " Row(OverTime='Yes', JobRole='Research Scientist', JobLevel='1'),\n",
              " Row(OverTime='Yes', JobRole='Manager', JobLevel='4'),\n",
              " Row(OverTime='Yes', JobRole='Laboratory Technician', JobLevel='1'),\n",
              " Row(OverTime='Yes', JobRole='Sales Representative', JobLevel='1'),\n",
              " Row(OverTime='Yes', JobRole='Research Director', JobLevel='3'),\n",
              " Row(OverTime='Yes', JobRole='Research Scientist', JobLevel='1'),\n",
              " Row(OverTime='Yes', JobRole='Research Scientist', JobLevel='1'),\n",
              " Row(OverTime='Yes', JobRole='Sales Executive', JobLevel='2'),\n",
              " Row(OverTime='Yes', JobRole='Research Director', JobLevel='5'),\n",
              " Row(OverTime='Yes', JobRole='Research Scientist', JobLevel='1'),\n",
              " Row(OverTime='Yes', JobRole='Sales Executive', JobLevel='2'),\n",
              " Row(OverTime='Yes', JobRole='Research Scientist', JobLevel='1'),\n",
              " Row(OverTime='Yes', JobRole='Research Scientist', JobLevel='2'),\n",
              " Row(OverTime='Yes', JobRole='Research Scientist', JobLevel='1'),\n",
              " Row(OverTime='Yes', JobRole='Laboratory Technician', JobLevel='1'),\n",
              " Row(OverTime='Yes', JobRole='Sales Representative', JobLevel='1'),\n",
              " Row(OverTime='Yes', JobRole='Research Scientist', JobLevel='1'),\n",
              " Row(OverTime='Yes', JobRole='Sales Executive', JobLevel='3'),\n",
              " Row(OverTime='Yes', JobRole='Sales Executive', JobLevel='2'),\n",
              " Row(OverTime='Yes', JobRole='Sales Executive', JobLevel='2'),\n",
              " Row(OverTime='Yes', JobRole='Laboratory Technician', JobLevel='1'),\n",
              " Row(OverTime='Yes', JobRole='Research Scientist', JobLevel='2'),\n",
              " Row(OverTime='Yes', JobRole='Human Resources', JobLevel='1'),\n",
              " Row(OverTime='Yes', JobRole='Research Scientist', JobLevel='1'),\n",
              " Row(OverTime='Yes', JobRole='Laboratory Technician', JobLevel='2'),\n",
              " Row(OverTime='Yes', JobRole='Sales Executive', JobLevel='3'),\n",
              " Row(OverTime='Yes', JobRole='Laboratory Technician', JobLevel='2'),\n",
              " Row(OverTime='Yes', JobRole='Healthcare Representative', JobLevel='4'),\n",
              " Row(OverTime='Yes', JobRole='Research Scientist', JobLevel='1'),\n",
              " Row(OverTime='Yes', JobRole='Healthcare Representative', JobLevel='2'),\n",
              " Row(OverTime='Yes', JobRole='Sales Executive', JobLevel='3'),\n",
              " Row(OverTime='Yes', JobRole='Laboratory Technician', JobLevel='1'),\n",
              " Row(OverTime='Yes', JobRole='Healthcare Representative', JobLevel='2'),\n",
              " Row(OverTime='Yes', JobRole='Sales Executive', JobLevel='2'),\n",
              " Row(OverTime='Yes', JobRole='Laboratory Technician', JobLevel='1'),\n",
              " Row(OverTime='Yes', JobRole='Healthcare Representative', JobLevel='2'),\n",
              " Row(OverTime='Yes', JobRole='Sales Executive', JobLevel='4'),\n",
              " Row(OverTime='Yes', JobRole='Research Scientist', JobLevel='1'),\n",
              " Row(OverTime='Yes', JobRole='Research Scientist', JobLevel='1'),\n",
              " Row(OverTime='Yes', JobRole='Manufacturing Director', JobLevel='2'),\n",
              " Row(OverTime='Yes', JobRole='Research Director', JobLevel='5'),\n",
              " Row(OverTime='Yes', JobRole='Laboratory Technician', JobLevel='2'),\n",
              " Row(OverTime='Yes', JobRole='Laboratory Technician', JobLevel='2'),\n",
              " Row(OverTime='Yes', JobRole='Laboratory Technician', JobLevel='2'),\n",
              " Row(OverTime='Yes', JobRole='Sales Executive', JobLevel='2'),\n",
              " Row(OverTime='Yes', JobRole='Sales Executive', JobLevel='2'),\n",
              " Row(OverTime='Yes', JobRole='Manufacturing Director', JobLevel='2'),\n",
              " Row(OverTime='Yes', JobRole='Manager', JobLevel='4'),\n",
              " Row(OverTime='Yes', JobRole='Research Scientist', JobLevel='1'),\n",
              " Row(OverTime='Yes', JobRole='Sales Executive', JobLevel='2'),\n",
              " Row(OverTime='Yes', JobRole='Manufacturing Director', JobLevel='3'),\n",
              " Row(OverTime='Yes', JobRole='Healthcare Representative', JobLevel='2'),\n",
              " Row(OverTime='Yes', JobRole='Healthcare Representative', JobLevel='3')]"
            ]
          },
          "metadata": {},
          "execution_count": 48
        }
      ]
    },
    {
      "cell_type": "code",
      "source": [
        "employee.select([\"OverTime\", \"JobRole\", \"JobLevel\"]).where(employee.OverTime==\"Yes\").where(employee.JobRole==\"Sales Representative\").collect()"
      ],
      "metadata": {
        "colab": {
          "base_uri": "https://localhost:8080/"
        },
        "id": "5DHhwt24wEGE",
        "outputId": "6a1af484-def7-4f27-9ed8-8ad62ead540b"
      },
      "execution_count": 49,
      "outputs": [
        {
          "output_type": "execute_result",
          "data": {
            "text/plain": [
              "[Row(OverTime='Yes', JobRole='Sales Representative', JobLevel='1'),\n",
              " Row(OverTime='Yes', JobRole='Sales Representative', JobLevel='1'),\n",
              " Row(OverTime='Yes', JobRole='Sales Representative', JobLevel='1'),\n",
              " Row(OverTime='Yes', JobRole='Sales Representative', JobLevel='1'),\n",
              " Row(OverTime='Yes', JobRole='Sales Representative', JobLevel='1'),\n",
              " Row(OverTime='Yes', JobRole='Sales Representative', JobLevel='1'),\n",
              " Row(OverTime='Yes', JobRole='Sales Representative', JobLevel='1'),\n",
              " Row(OverTime='Yes', JobRole='Sales Representative', JobLevel='1'),\n",
              " Row(OverTime='Yes', JobRole='Sales Representative', JobLevel='1'),\n",
              " Row(OverTime='Yes', JobRole='Sales Representative', JobLevel='1'),\n",
              " Row(OverTime='Yes', JobRole='Sales Representative', JobLevel='1'),\n",
              " Row(OverTime='Yes', JobRole='Sales Representative', JobLevel='1'),\n",
              " Row(OverTime='Yes', JobRole='Sales Representative', JobLevel='1'),\n",
              " Row(OverTime='Yes', JobRole='Sales Representative', JobLevel='1'),\n",
              " Row(OverTime='Yes', JobRole='Sales Representative', JobLevel='1'),\n",
              " Row(OverTime='Yes', JobRole='Sales Representative', JobLevel='1'),\n",
              " Row(OverTime='Yes', JobRole='Sales Representative', JobLevel='1'),\n",
              " Row(OverTime='Yes', JobRole='Sales Representative', JobLevel='1'),\n",
              " Row(OverTime='Yes', JobRole='Sales Representative', JobLevel='1'),\n",
              " Row(OverTime='Yes', JobRole='Sales Representative', JobLevel='1'),\n",
              " Row(OverTime='Yes', JobRole='Sales Representative', JobLevel='2'),\n",
              " Row(OverTime='Yes', JobRole='Sales Representative', JobLevel='2'),\n",
              " Row(OverTime='Yes', JobRole='Sales Representative', JobLevel='1'),\n",
              " Row(OverTime='Yes', JobRole='Sales Representative', JobLevel='1')]"
            ]
          },
          "metadata": {},
          "execution_count": 49
        }
      ]
    },
    {
      "cell_type": "code",
      "source": [
        "employee_JR_max = employee.select([\"OverTime\", \"JobRole\", \"JobLevel\"]).where(employee.OverTime==\"Yes\").where(employee.JobRole==\"Sales Representative\").collect()"
      ],
      "metadata": {
        "id": "LHGOyfgByByA"
      },
      "execution_count": 50,
      "outputs": []
    },
    {
      "cell_type": "code",
      "source": [
        "print(len(employee_JR_max))"
      ],
      "metadata": {
        "colab": {
          "base_uri": "https://localhost:8080/"
        },
        "id": "MP3Wo_9KyKdT",
        "outputId": "d3d5fa7e-84ba-4162-e89f-f0660dfef26a"
      },
      "execution_count": 51,
      "outputs": [
        {
          "output_type": "stream",
          "name": "stdout",
          "text": [
            "24\n"
          ]
        }
      ]
    },
    {
      "cell_type": "code",
      "source": [
        "employee.select([\"OverTime\", \"JobRole\", \"JobLevel\"]).where(employee.OverTime==\"Yes\").where(employee.JobRole==\"Healthcare Representative\").collect()"
      ],
      "metadata": {
        "colab": {
          "base_uri": "https://localhost:8080/"
        },
        "id": "MvdzromQxDjN",
        "outputId": "f758a47b-1858-41a3-cecb-b583e5d4c92b"
      },
      "execution_count": 52,
      "outputs": [
        {
          "output_type": "execute_result",
          "data": {
            "text/plain": [
              "[Row(OverTime='Yes', JobRole='Healthcare Representative', JobLevel='2'),\n",
              " Row(OverTime='Yes', JobRole='Healthcare Representative', JobLevel='4'),\n",
              " Row(OverTime='Yes', JobRole='Healthcare Representative', JobLevel='4'),\n",
              " Row(OverTime='Yes', JobRole='Healthcare Representative', JobLevel='3'),\n",
              " Row(OverTime='Yes', JobRole='Healthcare Representative', JobLevel='2'),\n",
              " Row(OverTime='Yes', JobRole='Healthcare Representative', JobLevel='2'),\n",
              " Row(OverTime='Yes', JobRole='Healthcare Representative', JobLevel='3'),\n",
              " Row(OverTime='Yes', JobRole='Healthcare Representative', JobLevel='2'),\n",
              " Row(OverTime='Yes', JobRole='Healthcare Representative', JobLevel='2'),\n",
              " Row(OverTime='Yes', JobRole='Healthcare Representative', JobLevel='2'),\n",
              " Row(OverTime='Yes', JobRole='Healthcare Representative', JobLevel='3'),\n",
              " Row(OverTime='Yes', JobRole='Healthcare Representative', JobLevel='3'),\n",
              " Row(OverTime='Yes', JobRole='Healthcare Representative', JobLevel='4'),\n",
              " Row(OverTime='Yes', JobRole='Healthcare Representative', JobLevel='4'),\n",
              " Row(OverTime='Yes', JobRole='Healthcare Representative', JobLevel='2'),\n",
              " Row(OverTime='Yes', JobRole='Healthcare Representative', JobLevel='2'),\n",
              " Row(OverTime='Yes', JobRole='Healthcare Representative', JobLevel='2'),\n",
              " Row(OverTime='Yes', JobRole='Healthcare Representative', JobLevel='2'),\n",
              " Row(OverTime='Yes', JobRole='Healthcare Representative', JobLevel='2'),\n",
              " Row(OverTime='Yes', JobRole='Healthcare Representative', JobLevel='3'),\n",
              " Row(OverTime='Yes', JobRole='Healthcare Representative', JobLevel='2'),\n",
              " Row(OverTime='Yes', JobRole='Healthcare Representative', JobLevel='3'),\n",
              " Row(OverTime='Yes', JobRole='Healthcare Representative', JobLevel='3'),\n",
              " Row(OverTime='Yes', JobRole='Healthcare Representative', JobLevel='3'),\n",
              " Row(OverTime='Yes', JobRole='Healthcare Representative', JobLevel='2'),\n",
              " Row(OverTime='Yes', JobRole='Healthcare Representative', JobLevel='3'),\n",
              " Row(OverTime='Yes', JobRole='Healthcare Representative', JobLevel='3'),\n",
              " Row(OverTime='Yes', JobRole='Healthcare Representative', JobLevel='2'),\n",
              " Row(OverTime='Yes', JobRole='Healthcare Representative', JobLevel='2'),\n",
              " Row(OverTime='Yes', JobRole='Healthcare Representative', JobLevel='2'),\n",
              " Row(OverTime='Yes', JobRole='Healthcare Representative', JobLevel='2'),\n",
              " Row(OverTime='Yes', JobRole='Healthcare Representative', JobLevel='4'),\n",
              " Row(OverTime='Yes', JobRole='Healthcare Representative', JobLevel='2'),\n",
              " Row(OverTime='Yes', JobRole='Healthcare Representative', JobLevel='2'),\n",
              " Row(OverTime='Yes', JobRole='Healthcare Representative', JobLevel='2'),\n",
              " Row(OverTime='Yes', JobRole='Healthcare Representative', JobLevel='2'),\n",
              " Row(OverTime='Yes', JobRole='Healthcare Representative', JobLevel='3')]"
            ]
          },
          "metadata": {},
          "execution_count": 52
        }
      ]
    },
    {
      "cell_type": "code",
      "source": [
        "employee_JR_min = employee.select([\"OverTime\", \"JobRole\", \"JobLevel\"]).where(employee.OverTime==\"Yes\").where(employee.JobRole==\"Healthcare Representative\").collect()"
      ],
      "metadata": {
        "id": "z8Tvi5Vgx4tn"
      },
      "execution_count": 53,
      "outputs": []
    },
    {
      "cell_type": "code",
      "source": [
        "print(len(employee_JR_min))"
      ],
      "metadata": {
        "colab": {
          "base_uri": "https://localhost:8080/"
        },
        "id": "dFXE-OK9xUUI",
        "outputId": "6bdc7fa0-099f-417b-dfed-7c63ebf26b67"
      },
      "execution_count": 54,
      "outputs": [
        {
          "output_type": "stream",
          "name": "stdout",
          "text": [
            "37\n"
          ]
        }
      ]
    },
    {
      "cell_type": "markdown",
      "source": [
        "Based on the findings, ‘Healthcare Representative’ for JobRole is the highest to choose OverTime not including the JobLevel. While the lowest is ‘Sales Representative’. It can be said that OverTime does not influence by JobLevel and JobRole."
      ],
      "metadata": {
        "id": "WZQHUo1EwfAu"
      }
    },
    {
      "cell_type": "markdown",
      "source": [
        "**Data Science Question 8**"
      ],
      "metadata": {
        "id": "Y7X9IW74RXDZ"
      }
    },
    {
      "cell_type": "code",
      "source": [
        "employee.select([\"YearsAtCompany\", \"YearsInCurrentRole\", \"Attrition\"]).where(employee.Attrition==\"Yes\").collect()"
      ],
      "metadata": {
        "colab": {
          "base_uri": "https://localhost:8080/"
        },
        "id": "Q7O9v7GqRTPt",
        "outputId": "d5ea19d4-39d4-493b-fc9f-624ac434b819"
      },
      "execution_count": 55,
      "outputs": [
        {
          "output_type": "execute_result",
          "data": {
            "text/plain": [
              "[Row(YearsAtCompany='5', YearsInCurrentRole='4', Attrition='Yes'),\n",
              " Row(YearsAtCompany='1', YearsInCurrentRole='0', Attrition='Yes'),\n",
              " Row(YearsAtCompany='1', YearsInCurrentRole='0', Attrition='Yes'),\n",
              " Row(YearsAtCompany='20', YearsInCurrentRole='6', Attrition='Yes'),\n",
              " Row(YearsAtCompany='10', YearsInCurrentRole='3', Attrition='Yes'),\n",
              " Row(YearsAtCompany='3', YearsInCurrentRole='2', Attrition='Yes'),\n",
              " Row(YearsAtCompany='1', YearsInCurrentRole='0', Attrition='Yes'),\n",
              " Row(YearsAtCompany='1', YearsInCurrentRole='0', Attrition='Yes'),\n",
              " Row(YearsAtCompany='2', YearsInCurrentRole='2', Attrition='Yes'),\n",
              " Row(YearsAtCompany='3', YearsInCurrentRole='2', Attrition='Yes'),\n",
              " Row(YearsAtCompany='1', YearsInCurrentRole='0', Attrition='Yes'),\n",
              " Row(YearsAtCompany='1', YearsInCurrentRole='0', Attrition='Yes'),\n",
              " Row(YearsAtCompany='3', YearsInCurrentRole='2', Attrition='Yes'),\n",
              " Row(YearsAtCompany='7', YearsInCurrentRole='7', Attrition='Yes'),\n",
              " Row(YearsAtCompany='7', YearsInCurrentRole='7', Attrition='Yes'),\n",
              " Row(YearsAtCompany='3', YearsInCurrentRole='2', Attrition='Yes'),\n",
              " Row(YearsAtCompany='1', YearsInCurrentRole='0', Attrition='Yes'),\n",
              " Row(YearsAtCompany='33', YearsInCurrentRole='7', Attrition='Yes'),\n",
              " Row(YearsAtCompany='6', YearsInCurrentRole='4', Attrition='Yes'),\n",
              " Row(YearsAtCompany='0', YearsInCurrentRole='0', Attrition='Yes'),\n",
              " Row(YearsAtCompany='3', YearsInCurrentRole='2', Attrition='Yes'),\n",
              " Row(YearsAtCompany='10', YearsInCurrentRole='8', Attrition='Yes'),\n",
              " Row(YearsAtCompany='1', YearsInCurrentRole='0', Attrition='Yes'),\n",
              " Row(YearsAtCompany='1', YearsInCurrentRole='0', Attrition='Yes'),\n",
              " Row(YearsAtCompany='1', YearsInCurrentRole='0', Attrition='Yes'),\n",
              " Row(YearsAtCompany='6', YearsInCurrentRole='3', Attrition='Yes'),\n",
              " Row(YearsAtCompany='1', YearsInCurrentRole='0', Attrition='Yes'),\n",
              " Row(YearsAtCompany='5', YearsInCurrentRole='3', Attrition='Yes'),\n",
              " Row(YearsAtCompany='5', YearsInCurrentRole='1', Attrition='Yes'),\n",
              " Row(YearsAtCompany='0', YearsInCurrentRole='0', Attrition='Yes'),\n",
              " Row(YearsAtCompany='6', YearsInCurrentRole='4', Attrition='Yes'),\n",
              " Row(YearsAtCompany='1', YearsInCurrentRole='0', Attrition='Yes'),\n",
              " Row(YearsAtCompany='0', YearsInCurrentRole='0', Attrition='Yes'),\n",
              " Row(YearsAtCompany='10', YearsInCurrentRole='8', Attrition='Yes'),\n",
              " Row(YearsAtCompany='3', YearsInCurrentRole='2', Attrition='Yes'),\n",
              " Row(YearsAtCompany='1', YearsInCurrentRole='0', Attrition='Yes'),\n",
              " Row(YearsAtCompany='2', YearsInCurrentRole='2', Attrition='Yes'),\n",
              " Row(YearsAtCompany='0', YearsInCurrentRole='0', Attrition='Yes'),\n",
              " Row(YearsAtCompany='8', YearsInCurrentRole='7', Attrition='Yes'),\n",
              " Row(YearsAtCompany='5', YearsInCurrentRole='4', Attrition='Yes'),\n",
              " Row(YearsAtCompany='3', YearsInCurrentRole='2', Attrition='Yes'),\n",
              " Row(YearsAtCompany='2', YearsInCurrentRole='2', Attrition='Yes'),\n",
              " Row(YearsAtCompany='1', YearsInCurrentRole='0', Attrition='Yes'),\n",
              " Row(YearsAtCompany='1', YearsInCurrentRole='1', Attrition='Yes'),\n",
              " Row(YearsAtCompany='2', YearsInCurrentRole='2', Attrition='Yes'),\n",
              " Row(YearsAtCompany='13', YearsInCurrentRole='7', Attrition='Yes'),\n",
              " Row(YearsAtCompany='1', YearsInCurrentRole='0', Attrition='Yes'),\n",
              " Row(YearsAtCompany='1', YearsInCurrentRole='0', Attrition='Yes'),\n",
              " Row(YearsAtCompany='10', YearsInCurrentRole='7', Attrition='Yes'),\n",
              " Row(YearsAtCompany='3', YearsInCurrentRole='2', Attrition='Yes'),\n",
              " Row(YearsAtCompany='6', YearsInCurrentRole='3', Attrition='Yes'),\n",
              " Row(YearsAtCompany='4', YearsInCurrentRole='3', Attrition='Yes'),\n",
              " Row(YearsAtCompany='10', YearsInCurrentRole='9', Attrition='Yes'),\n",
              " Row(YearsAtCompany='4', YearsInCurrentRole='2', Attrition='Yes'),\n",
              " Row(YearsAtCompany='0', YearsInCurrentRole='0', Attrition='Yes'),\n",
              " Row(YearsAtCompany='22', YearsInCurrentRole='15', Attrition='Yes'),\n",
              " Row(YearsAtCompany='4', YearsInCurrentRole='2', Attrition='Yes'),\n",
              " Row(YearsAtCompany='2', YearsInCurrentRole='2', Attrition='Yes'),\n",
              " Row(YearsAtCompany='14', YearsInCurrentRole='8', Attrition='Yes'),\n",
              " Row(YearsAtCompany='9', YearsInCurrentRole='7', Attrition='Yes'),\n",
              " Row(YearsAtCompany='5', YearsInCurrentRole='3', Attrition='Yes'),\n",
              " Row(YearsAtCompany='2', YearsInCurrentRole='2', Attrition='Yes'),\n",
              " Row(YearsAtCompany='5', YearsInCurrentRole='2', Attrition='Yes'),\n",
              " Row(YearsAtCompany='8', YearsInCurrentRole='7', Attrition='Yes'),\n",
              " Row(YearsAtCompany='6', YearsInCurrentRole='4', Attrition='Yes'),\n",
              " Row(YearsAtCompany='3', YearsInCurrentRole='2', Attrition='Yes'),\n",
              " Row(YearsAtCompany='10', YearsInCurrentRole='2', Attrition='Yes'),\n",
              " Row(YearsAtCompany='7', YearsInCurrentRole='7', Attrition='Yes'),\n",
              " Row(YearsAtCompany='10', YearsInCurrentRole='2', Attrition='Yes'),\n",
              " Row(YearsAtCompany='1', YearsInCurrentRole='0', Attrition='Yes'),\n",
              " Row(YearsAtCompany='2', YearsInCurrentRole='2', Attrition='Yes'),\n",
              " Row(YearsAtCompany='2', YearsInCurrentRole='2', Attrition='Yes'),\n",
              " Row(YearsAtCompany='4', YearsInCurrentRole='2', Attrition='Yes'),\n",
              " Row(YearsAtCompany='2', YearsInCurrentRole='2', Attrition='Yes'),\n",
              " Row(YearsAtCompany='2', YearsInCurrentRole='2', Attrition='Yes'),\n",
              " Row(YearsAtCompany='10', YearsInCurrentRole='2', Attrition='Yes'),\n",
              " Row(YearsAtCompany='23', YearsInCurrentRole='5', Attrition='Yes'),\n",
              " Row(YearsAtCompany='1', YearsInCurrentRole='0', Attrition='Yes'),\n",
              " Row(YearsAtCompany='1', YearsInCurrentRole='0', Attrition='Yes'),\n",
              " Row(YearsAtCompany='1', YearsInCurrentRole='0', Attrition='Yes'),\n",
              " Row(YearsAtCompany='0', YearsInCurrentRole='0', Attrition='Yes'),\n",
              " Row(YearsAtCompany='3', YearsInCurrentRole='2', Attrition='Yes'),\n",
              " Row(YearsAtCompany='2', YearsInCurrentRole='2', Attrition='Yes'),\n",
              " Row(YearsAtCompany='9', YearsInCurrentRole='7', Attrition='Yes'),\n",
              " Row(YearsAtCompany='9', YearsInCurrentRole='7', Attrition='Yes'),\n",
              " Row(YearsAtCompany='5', YearsInCurrentRole='2', Attrition='Yes'),\n",
              " Row(YearsAtCompany='13', YearsInCurrentRole='12', Attrition='Yes'),\n",
              " Row(YearsAtCompany='14', YearsInCurrentRole='1', Attrition='Yes'),\n",
              " Row(YearsAtCompany='18', YearsInCurrentRole='7', Attrition='Yes'),\n",
              " Row(YearsAtCompany='1', YearsInCurrentRole='0', Attrition='Yes'),\n",
              " Row(YearsAtCompany='11', YearsInCurrentRole='8', Attrition='Yes'),\n",
              " Row(YearsAtCompany='1', YearsInCurrentRole='0', Attrition='Yes'),\n",
              " Row(YearsAtCompany='5', YearsInCurrentRole='2', Attrition='Yes'),\n",
              " Row(YearsAtCompany='8', YearsInCurrentRole='2', Attrition='Yes'),\n",
              " Row(YearsAtCompany='0', YearsInCurrentRole='0', Attrition='Yes'),\n",
              " Row(YearsAtCompany='3', YearsInCurrentRole='2', Attrition='Yes'),\n",
              " Row(YearsAtCompany='7', YearsInCurrentRole='2', Attrition='Yes'),\n",
              " Row(YearsAtCompany='4', YearsInCurrentRole='3', Attrition='Yes'),\n",
              " Row(YearsAtCompany='8', YearsInCurrentRole='7', Attrition='Yes'),\n",
              " Row(YearsAtCompany='0', YearsInCurrentRole='0', Attrition='Yes'),\n",
              " Row(YearsAtCompany='7', YearsInCurrentRole='1', Attrition='Yes'),\n",
              " Row(YearsAtCompany='2', YearsInCurrentRole='0', Attrition='Yes'),\n",
              " Row(YearsAtCompany='9', YearsInCurrentRole='7', Attrition='Yes'),\n",
              " Row(YearsAtCompany='5', YearsInCurrentRole='3', Attrition='Yes'),\n",
              " Row(YearsAtCompany='10', YearsInCurrentRole='4', Attrition='Yes'),\n",
              " Row(YearsAtCompany='2', YearsInCurrentRole='2', Attrition='Yes'),\n",
              " Row(YearsAtCompany='1', YearsInCurrentRole='0', Attrition='Yes'),\n",
              " Row(YearsAtCompany='21', YearsInCurrentRole='9', Attrition='Yes'),\n",
              " Row(YearsAtCompany='10', YearsInCurrentRole='7', Attrition='Yes'),\n",
              " Row(YearsAtCompany='4', YearsInCurrentRole='3', Attrition='Yes'),\n",
              " Row(YearsAtCompany='1', YearsInCurrentRole='0', Attrition='Yes'),\n",
              " Row(YearsAtCompany='2', YearsInCurrentRole='2', Attrition='Yes'),\n",
              " Row(YearsAtCompany='2', YearsInCurrentRole='2', Attrition='Yes'),\n",
              " Row(YearsAtCompany='15', YearsInCurrentRole='9', Attrition='Yes'),\n",
              " Row(YearsAtCompany='10', YearsInCurrentRole='9', Attrition='Yes'),\n",
              " Row(YearsAtCompany='1', YearsInCurrentRole='0', Attrition='Yes'),\n",
              " Row(YearsAtCompany='2', YearsInCurrentRole='2', Attrition='Yes'),\n",
              " Row(YearsAtCompany='11', YearsInCurrentRole='9', Attrition='Yes'),\n",
              " Row(YearsAtCompany='3', YearsInCurrentRole='2', Attrition='Yes'),\n",
              " Row(YearsAtCompany='6', YearsInCurrentRole='4', Attrition='Yes'),\n",
              " Row(YearsAtCompany='4', YearsInCurrentRole='2', Attrition='Yes'),\n",
              " Row(YearsAtCompany='1', YearsInCurrentRole='0', Attrition='Yes'),\n",
              " Row(YearsAtCompany='5', YearsInCurrentRole='3', Attrition='Yes'),\n",
              " Row(YearsAtCompany='24', YearsInCurrentRole='10', Attrition='Yes'),\n",
              " Row(YearsAtCompany='5', YearsInCurrentRole='4', Attrition='Yes'),\n",
              " Row(YearsAtCompany='40', YearsInCurrentRole='10', Attrition='Yes'),\n",
              " Row(YearsAtCompany='1', YearsInCurrentRole='0', Attrition='Yes'),\n",
              " Row(YearsAtCompany='4', YearsInCurrentRole='3', Attrition='Yes'),\n",
              " Row(YearsAtCompany='9', YearsInCurrentRole='7', Attrition='Yes'),\n",
              " Row(YearsAtCompany='2', YearsInCurrentRole='2', Attrition='Yes'),\n",
              " Row(YearsAtCompany='4', YearsInCurrentRole='2', Attrition='Yes'),\n",
              " Row(YearsAtCompany='1', YearsInCurrentRole='0', Attrition='Yes'),\n",
              " Row(YearsAtCompany='16', YearsInCurrentRole='7', Attrition='Yes'),\n",
              " Row(YearsAtCompany='2', YearsInCurrentRole='2', Attrition='Yes'),\n",
              " Row(YearsAtCompany='1', YearsInCurrentRole='0', Attrition='Yes'),\n",
              " Row(YearsAtCompany='1', YearsInCurrentRole='1', Attrition='Yes'),\n",
              " Row(YearsAtCompany='10', YearsInCurrentRole='7', Attrition='Yes'),\n",
              " Row(YearsAtCompany='0', YearsInCurrentRole='0', Attrition='Yes'),\n",
              " Row(YearsAtCompany='5', YearsInCurrentRole='4', Attrition='Yes'),\n",
              " Row(YearsAtCompany='5', YearsInCurrentRole='4', Attrition='Yes'),\n",
              " Row(YearsAtCompany='9', YearsInCurrentRole='7', Attrition='Yes'),\n",
              " Row(YearsAtCompany='1', YearsInCurrentRole='0', Attrition='Yes'),\n",
              " Row(YearsAtCompany='1', YearsInCurrentRole='0', Attrition='Yes'),\n",
              " Row(YearsAtCompany='19', YearsInCurrentRole='7', Attrition='Yes'),\n",
              " Row(YearsAtCompany='3', YearsInCurrentRole='1', Attrition='Yes'),\n",
              " Row(YearsAtCompany='8', YearsInCurrentRole='7', Attrition='Yes'),\n",
              " Row(YearsAtCompany='4', YearsInCurrentRole='1', Attrition='Yes'),\n",
              " Row(YearsAtCompany='8', YearsInCurrentRole='2', Attrition='Yes'),\n",
              " Row(YearsAtCompany='5', YearsInCurrentRole='2', Attrition='Yes'),\n",
              " Row(YearsAtCompany='4', YearsInCurrentRole='3', Attrition='Yes'),\n",
              " Row(YearsAtCompany='0', YearsInCurrentRole='0', Attrition='Yes'),\n",
              " Row(YearsAtCompany='6', YearsInCurrentRole='3', Attrition='Yes'),\n",
              " Row(YearsAtCompany='1', YearsInCurrentRole='0', Attrition='Yes'),\n",
              " Row(YearsAtCompany='2', YearsInCurrentRole='2', Attrition='Yes'),\n",
              " Row(YearsAtCompany='10', YearsInCurrentRole='9', Attrition='Yes'),\n",
              " Row(YearsAtCompany='0', YearsInCurrentRole='0', Attrition='Yes'),\n",
              " Row(YearsAtCompany='4', YearsInCurrentRole='3', Attrition='Yes'),\n",
              " Row(YearsAtCompany='3', YearsInCurrentRole='2', Attrition='Yes'),\n",
              " Row(YearsAtCompany='7', YearsInCurrentRole='7', Attrition='Yes'),\n",
              " Row(YearsAtCompany='4', YearsInCurrentRole='3', Attrition='Yes'),\n",
              " Row(YearsAtCompany='1', YearsInCurrentRole='0', Attrition='Yes'),\n",
              " Row(YearsAtCompany='9', YearsInCurrentRole='8', Attrition='Yes'),\n",
              " Row(YearsAtCompany='1', YearsInCurrentRole='0', Attrition='Yes'),\n",
              " Row(YearsAtCompany='7', YearsInCurrentRole='6', Attrition='Yes'),\n",
              " Row(YearsAtCompany='7', YearsInCurrentRole='7', Attrition='Yes'),\n",
              " Row(YearsAtCompany='3', YearsInCurrentRole='2', Attrition='Yes'),\n",
              " Row(YearsAtCompany='10', YearsInCurrentRole='4', Attrition='Yes'),\n",
              " Row(YearsAtCompany='1', YearsInCurrentRole='0', Attrition='Yes'),\n",
              " Row(YearsAtCompany='1', YearsInCurrentRole='0', Attrition='Yes'),\n",
              " Row(YearsAtCompany='5', YearsInCurrentRole='2', Attrition='Yes'),\n",
              " Row(YearsAtCompany='1', YearsInCurrentRole='0', Attrition='Yes'),\n",
              " Row(YearsAtCompany='2', YearsInCurrentRole='2', Attrition='Yes'),\n",
              " Row(YearsAtCompany='5', YearsInCurrentRole='2', Attrition='Yes'),\n",
              " Row(YearsAtCompany='1', YearsInCurrentRole='0', Attrition='Yes'),\n",
              " Row(YearsAtCompany='1', YearsInCurrentRole='0', Attrition='Yes'),\n",
              " Row(YearsAtCompany='5', YearsInCurrentRole='2', Attrition='Yes'),\n",
              " Row(YearsAtCompany='2', YearsInCurrentRole='2', Attrition='Yes'),\n",
              " Row(YearsAtCompany='0', YearsInCurrentRole='0', Attrition='Yes'),\n",
              " Row(YearsAtCompany='1', YearsInCurrentRole='0', Attrition='Yes'),\n",
              " Row(YearsAtCompany='4', YearsInCurrentRole='2', Attrition='Yes'),\n",
              " Row(YearsAtCompany='32', YearsInCurrentRole='14', Attrition='Yes'),\n",
              " Row(YearsAtCompany='6', YearsInCurrentRole='4', Attrition='Yes'),\n",
              " Row(YearsAtCompany='3', YearsInCurrentRole='2', Attrition='Yes'),\n",
              " Row(YearsAtCompany='7', YearsInCurrentRole='7', Attrition='Yes'),\n",
              " Row(YearsAtCompany='5', YearsInCurrentRole='4', Attrition='Yes'),\n",
              " Row(YearsAtCompany='8', YearsInCurrentRole='7', Attrition='Yes'),\n",
              " Row(YearsAtCompany='0', YearsInCurrentRole='0', Attrition='Yes'),\n",
              " Row(YearsAtCompany='10', YearsInCurrentRole='7', Attrition='Yes'),\n",
              " Row(YearsAtCompany='10', YearsInCurrentRole='7', Attrition='Yes'),\n",
              " Row(YearsAtCompany='5', YearsInCurrentRole='4', Attrition='Yes'),\n",
              " Row(YearsAtCompany='9', YearsInCurrentRole='8', Attrition='Yes'),\n",
              " Row(YearsAtCompany='2', YearsInCurrentRole='2', Attrition='Yes'),\n",
              " Row(YearsAtCompany='1', YearsInCurrentRole='0', Attrition='Yes'),\n",
              " Row(YearsAtCompany='6', YearsInCurrentRole='2', Attrition='Yes'),\n",
              " Row(YearsAtCompany='7', YearsInCurrentRole='7', Attrition='Yes'),\n",
              " Row(YearsAtCompany='4', YearsInCurrentRole='2', Attrition='Yes'),\n",
              " Row(YearsAtCompany='0', YearsInCurrentRole='0', Attrition='Yes'),\n",
              " Row(YearsAtCompany='1', YearsInCurrentRole='1', Attrition='Yes'),\n",
              " Row(YearsAtCompany='5', YearsInCurrentRole='2', Attrition='Yes'),\n",
              " Row(YearsAtCompany='1', YearsInCurrentRole='0', Attrition='Yes'),\n",
              " Row(YearsAtCompany='4', YearsInCurrentRole='2', Attrition='Yes'),\n",
              " Row(YearsAtCompany='1', YearsInCurrentRole='0', Attrition='Yes'),\n",
              " Row(YearsAtCompany='3', YearsInCurrentRole='2', Attrition='Yes'),\n",
              " Row(YearsAtCompany='1', YearsInCurrentRole='0', Attrition='Yes'),\n",
              " Row(YearsAtCompany='1', YearsInCurrentRole='0', Attrition='Yes'),\n",
              " Row(YearsAtCompany='10', YearsInCurrentRole='8', Attrition='Yes'),\n",
              " Row(YearsAtCompany='2', YearsInCurrentRole='2', Attrition='Yes'),\n",
              " Row(YearsAtCompany='2', YearsInCurrentRole='2', Attrition='Yes'),\n",
              " Row(YearsAtCompany='2', YearsInCurrentRole='2', Attrition='Yes'),\n",
              " Row(YearsAtCompany='4', YearsInCurrentRole='2', Attrition='Yes'),\n",
              " Row(YearsAtCompany='1', YearsInCurrentRole='1', Attrition='Yes'),\n",
              " Row(YearsAtCompany='1', YearsInCurrentRole='0', Attrition='Yes'),\n",
              " Row(YearsAtCompany='3', YearsInCurrentRole='2', Attrition='Yes'),\n",
              " Row(YearsAtCompany='1', YearsInCurrentRole='0', Attrition='Yes'),\n",
              " Row(YearsAtCompany='31', YearsInCurrentRole='15', Attrition='Yes'),\n",
              " Row(YearsAtCompany='0', YearsInCurrentRole='0', Attrition='Yes'),\n",
              " Row(YearsAtCompany='5', YearsInCurrentRole='4', Attrition='Yes'),\n",
              " Row(YearsAtCompany='3', YearsInCurrentRole='2', Attrition='Yes'),\n",
              " Row(YearsAtCompany='3', YearsInCurrentRole='2', Attrition='Yes'),\n",
              " Row(YearsAtCompany='2', YearsInCurrentRole='0', Attrition='Yes'),\n",
              " Row(YearsAtCompany='2', YearsInCurrentRole='2', Attrition='Yes'),\n",
              " Row(YearsAtCompany='7', YearsInCurrentRole='7', Attrition='Yes'),\n",
              " Row(YearsAtCompany='1', YearsInCurrentRole='0', Attrition='Yes'),\n",
              " Row(YearsAtCompany='1', YearsInCurrentRole='0', Attrition='Yes'),\n",
              " Row(YearsAtCompany='4', YearsInCurrentRole='3', Attrition='Yes'),\n",
              " Row(YearsAtCompany='8', YearsInCurrentRole='7', Attrition='Yes'),\n",
              " Row(YearsAtCompany='1', YearsInCurrentRole='1', Attrition='Yes'),\n",
              " Row(YearsAtCompany='1', YearsInCurrentRole='0', Attrition='Yes'),\n",
              " Row(YearsAtCompany='10', YearsInCurrentRole='0', Attrition='Yes'),\n",
              " Row(YearsAtCompany='4', YearsInCurrentRole='1', Attrition='Yes'),\n",
              " Row(YearsAtCompany='0', YearsInCurrentRole='0', Attrition='Yes'),\n",
              " Row(YearsAtCompany='1', YearsInCurrentRole='0', Attrition='Yes'),\n",
              " Row(YearsAtCompany='1', YearsInCurrentRole='0', Attrition='Yes'),\n",
              " Row(YearsAtCompany='17', YearsInCurrentRole='13', Attrition='Yes'),\n",
              " Row(YearsAtCompany='1', YearsInCurrentRole='0', Attrition='Yes'),\n",
              " Row(YearsAtCompany='1', YearsInCurrentRole='0', Attrition='Yes'),\n",
              " Row(YearsAtCompany='8', YearsInCurrentRole='7', Attrition='Yes')]"
            ]
          },
          "metadata": {},
          "execution_count": 55
        }
      ]
    },
    {
      "cell_type": "code",
      "source": [
        "yearsCompany_Plot = employee.filter(employee.Attrition == \"Yes\").groupby(employee.YearsAtCompany).count().orderBy(employee.YearsAtCompany.cast(\"integer\"))"
      ],
      "metadata": {
        "id": "6SxGkpqoGJL0"
      },
      "execution_count": 56,
      "outputs": []
    },
    {
      "cell_type": "code",
      "source": [
        "yearsCompany_Plot.show()"
      ],
      "metadata": {
        "colab": {
          "base_uri": "https://localhost:8080/"
        },
        "id": "nwCqeosDGVea",
        "outputId": "c68da74c-587b-438d-e89b-af725014bda7"
      },
      "execution_count": 57,
      "outputs": [
        {
          "output_type": "stream",
          "name": "stdout",
          "text": [
            "+--------------+-----+\n",
            "|YearsAtCompany|count|\n",
            "+--------------+-----+\n",
            "|             0|   16|\n",
            "|             1|   59|\n",
            "|             2|   27|\n",
            "|             3|   20|\n",
            "|             4|   19|\n",
            "|             5|   21|\n",
            "|             6|    9|\n",
            "|             7|   11|\n",
            "|             8|    9|\n",
            "|             9|    8|\n",
            "|            10|   18|\n",
            "|            11|    2|\n",
            "|            13|    2|\n",
            "|            14|    2|\n",
            "|            15|    1|\n",
            "|            16|    1|\n",
            "|            17|    1|\n",
            "|            18|    1|\n",
            "|            19|    1|\n",
            "|            20|    1|\n",
            "+--------------+-----+\n",
            "only showing top 20 rows\n",
            "\n"
          ]
        }
      ]
    },
    {
      "cell_type": "code",
      "source": [
        "x = yearsCompany_Plot.toPandas()[\"YearsAtCompany\"].values.tolist()\n",
        "y = yearsCompany_Plot.toPandas()[\"count\"].values.tolist()"
      ],
      "metadata": {
        "id": "CqgojNXsGnIk"
      },
      "execution_count": 58,
      "outputs": []
    },
    {
      "cell_type": "code",
      "source": [
        "fig = plt.figure(figsize = (10, 5))\n",
        "plt.plot(x,y)\n",
        "plt.title(\"Attrition vs Years At Company\")\n",
        "plt.xlabel(\"Years At Company\")\n",
        "plt.ylabel(\"Attrition\")\n",
        "plt.show()"
      ],
      "metadata": {
        "colab": {
          "base_uri": "https://localhost:8080/",
          "height": 350
        },
        "id": "r0bc0Y6PGztT",
        "outputId": "9adf4fcc-0615-4dc1-e99e-ff20e261ae6d"
      },
      "execution_count": 59,
      "outputs": [
        {
          "output_type": "display_data",
          "data": {
            "text/plain": [
              "<Figure size 720x360 with 1 Axes>"
            ],
            "image/png": "[encoded data removed]"
          },
          "metadata": {
            "needs_background": "light"
          }
        }
      ]
    },
    {
      "cell_type": "markdown",
      "source": [
        "Graph shows that 0 year in current role contributes the highest in attrition. Perhaps this may cause by job promotion or change department than a year."
      ],
      "metadata": {
        "id": "jiGmDqfqwig9"
      }
    },
    {
      "cell_type": "code",
      "source": [
        "yearsCurrentRole_Plot = employee.filter(employee.Attrition == \"Yes\").groupby(employee.YearsInCurrentRole).count().orderBy(employee.YearsInCurrentRole.cast(\"integer\"))"
      ],
      "metadata": {
        "id": "YkvlEkobHrzc"
      },
      "execution_count": 60,
      "outputs": []
    },
    {
      "cell_type": "code",
      "source": [
        "yearsCurrentRole_Plot.show()"
      ],
      "metadata": {
        "colab": {
          "base_uri": "https://localhost:8080/"
        },
        "id": "A7LznIWnH2ff",
        "outputId": "026b4678-abab-4f19-ac47-2533841d7863"
      },
      "execution_count": 61,
      "outputs": [
        {
          "output_type": "stream",
          "name": "stdout",
          "text": [
            "+------------------+-----+\n",
            "|YearsInCurrentRole|count|\n",
            "+------------------+-----+\n",
            "|                 0|   73|\n",
            "|                 1|   11|\n",
            "|                 2|   68|\n",
            "|                 3|   16|\n",
            "|                 4|   15|\n",
            "|                 5|    1|\n",
            "|                 6|    2|\n",
            "|                 7|   31|\n",
            "|                 8|    7|\n",
            "|                 9|    6|\n",
            "|                10|    2|\n",
            "|                12|    1|\n",
            "|                13|    1|\n",
            "|                14|    1|\n",
            "|                15|    2|\n",
            "+------------------+-----+\n",
            "\n"
          ]
        }
      ]
    },
    {
      "cell_type": "code",
      "source": [
        "x = yearsCurrentRole_Plot.toPandas()[\"YearsInCurrentRole\"].values.tolist()\n",
        "y = yearsCurrentRole_Plot.toPandas()[\"count\"].values.tolist()"
      ],
      "metadata": {
        "id": "PeJ9UHsgIDwO"
      },
      "execution_count": 62,
      "outputs": []
    },
    {
      "cell_type": "code",
      "source": [
        "fig = plt.figure(figsize = (10, 5))\n",
        "plt.plot(x,y)\n",
        "plt.title(\"Attrition vs Years In Current Role\")\n",
        "plt.xlabel(\"Years In Current Role\")\n",
        "plt.ylabel(\"Attrition\")\n",
        "plt.show()"
      ],
      "metadata": {
        "colab": {
          "base_uri": "https://localhost:8080/",
          "height": 350
        },
        "id": "fEI4OLPzIHDP",
        "outputId": "0260b86f-dc6a-4617-e1e7-1cb8e1791bf5"
      },
      "execution_count": 63,
      "outputs": [
        {
          "output_type": "display_data",
          "data": {
            "text/plain": [
              "<Figure size 720x360 with 1 Axes>"
            ],
            "image/png": "[encoded data removed]"
          },
          "metadata": {
            "needs_background": "light"
          }
        }
      ]
    },
    {
      "cell_type": "markdown",
      "source": [
        "Graph shows that 1 year at company contributes the highest in attrition. This may happen due to job offer from other company after 1 year."
      ],
      "metadata": {
        "id": "zEQrn05cwoXh"
      }
    },
    {
      "cell_type": "markdown",
      "source": [
        "**References**\n",
        "1. GeeksforGeeks. (2021, December 19). GroupBy and filter data in PySpark. Retrieved July 2, 2022, from https://www.geeksforgeeks.org/groupby-and-filter-data-in-pyspark/?ref=lbp\n",
        "\n",
        "2. How to calculate correlation in PySpark -. (2022, May 6). ProjectPro. Retrieved July 2, 2022, from https://www.projectpro.io/recipes/calculate-correlation-pyspark"
      ],
      "metadata": {
        "id": "fYuVZji0wsy0"
      }
    }
  ]
}